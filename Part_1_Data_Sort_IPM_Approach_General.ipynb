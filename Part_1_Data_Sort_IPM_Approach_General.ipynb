{
 "cells": [
  {
   "cell_type": "markdown",
   "metadata": {},
   "source": [
    "# Data here: \n",
    "## IPM Approach (2 profiles) \n",
    "## Sequential Approach (7 profiles) "
   ]
  },
  {
   "cell_type": "markdown",
   "metadata": {},
   "source": [
    "# Import Long Format 8760 "
   ]
  },
  {
   "cell_type": "code",
   "execution_count": 1,
   "metadata": {
    "scrolled": true
   },
   "outputs": [
    {
     "name": "stdout",
     "output_type": "stream",
     "text": [
      "output files are written out in parent directory: C:\\Users\\tgoforth\\Documents\\IPM temporal resolution project\\outputs\n"
     ]
    }
   ],
   "source": [
    "#importing packages needed for analysis\n",
    "import os\n",
    "import numpy as np\n",
    "import pandas as pd\n",
    "import math\n",
    "from pandas import DataFrame\n",
    "\n",
    "path = os.getcwd()\n",
    "#print(path)\n",
    "\n",
    "#this code creates an output directory in the parent director, if one does not exist yet\n",
    "#Note: this is where all of the output files will be written, since outputs are large this saves space in git\n",
    "path = os.getcwd()\n",
    "parent = os.path.dirname(path)\n",
    "outputs_dir = parent+'\\outputs'\n",
    "if not os.path.exists(outputs_dir):\n",
    "    os.makedirs(outputs_dir)\n",
    "print('output files are written out in parent directory: '+outputs_dir)\n",
    "\n",
    "load_dur = pd.read_csv('../outputs/load_long_format.csv')\n",
    "solar_dur = pd.read_csv('../outputs/solar_long_format.csv')\n",
    "wind_dur = pd.read_csv('../outputs/wind_long_format.csv')\n",
    "\n",
    "## UNCOMMENT WHICH PROFILE TO BE USED\n",
    "#x = load_dur\n",
    "#x_name = 'load'\n",
    "#x_name2 = 'Load'\n",
    "#x_column = 'Load'\n",
    "\n",
    "#x = solar_dur\n",
    "#x_name = 'solar'\n",
    "#x_name2 = 'Solar_Gen'\n",
    "#choose TRG \n",
    "#x_column = 'TRG6'\n",
    "\n",
    "x = wind_dur\n",
    "x_name = 'wind'\n",
    "x_name2 = 'Wind_Gen'\n",
    "x_column = 'TRG4'\n",
    "\n",
    "#add an hour counter\n",
    "x['Hour_Counter'] = (x['Hour']) + (x['Day'] - 1) * 24\n",
    "x = x.sort_values(by=['Region','Hour_Counter'])\n",
    "unique_hc = pd.Series(x['Hour_Counter'].unique()).dropna()\n",
    "#print(unique_hc.tail(2))\n",
    "\n",
    "#print(x)"
   ]
  },
  {
   "cell_type": "markdown",
   "metadata": {},
   "source": [
    "# Case 1: Normal IPM Approach (72 Representative Hours)\n",
    "### Details: Split into 3 seasons, then 6 groups, then 4 times of day\n",
    "#### Methodology: Use counters to keep track of season split, then use groupby function to find load averages"
   ]
  },
  {
   "cell_type": "code",
   "execution_count": 12,
   "metadata": {
    "scrolled": false
   },
   "outputs": [
    {
     "name": "stdout",
     "output_type": "stream",
     "text": [
      "\n",
      "     Region R_Group R_Subgroup  Season  Month  Day  Hour  Hour_Counter    TOD  \\\n",
      "0  ERC_PHDL     ERC       PHDL  winter      1    1     1             1  night   \n",
      "1  ERC_PHDL     ERC       PHDL  winter      1    1     2             2  night   \n",
      "\n",
      "    TRG4  \n",
      "0  653.0  \n",
      "1  687.0  \n",
      "(867240, 10)\n"
     ]
    }
   ],
   "source": [
    "#Assign the time of day (TOD) categories to hours\n",
    "\n",
    "#Read in the time of day categories\n",
    "tod = pd.read_csv('inputs/time_of_day.csv')\n",
    "#print(tod)\n",
    "\n",
    "#merge the time of data categories to the dataframe\n",
    "x2 = pd.merge(x,tod,on='Hour',how='left')\n",
    "x2 = x2.drop(x2.columns[0], axis=1)\n",
    "x2 = x2[['Region','R_Group','R_Subgroup','Season','Month','Day','Hour','Hour_Counter','TOD',x_column]]\n",
    "print()\n",
    "print(x2.head(2))\n",
    "print(x2.shape)"
   ]
  },
  {
   "cell_type": "code",
   "execution_count": 13,
   "metadata": {},
   "outputs": [
    {
     "name": "stdout",
     "output_type": "stream",
     "text": [
      "   Season  Hour_Counter\n",
      "0  winter             1\n",
      "1  winter             2\n",
      "2  winter             3\n",
      "3  winter             4\n",
      "4  winter             5\n",
      "      Season_Counter\n",
      "8755          8756.0\n",
      "8756          8757.0\n",
      "8757          8758.0\n",
      "8758          8759.0\n",
      "8759          8760.0\n",
      "      Season_Counter  Group  Share   Seasons  Season_Ct\n",
      "0                1.0      1   0.01  shoulder      29.28\n",
      "1                2.0      1   0.01  shoulder      29.28\n",
      "2                3.0      1   0.01  shoulder      29.28\n",
      "3                4.0      1   0.01  shoulder      29.28\n",
      "4                5.0      1   0.01  shoulder      29.28\n",
      "...              ...    ...    ...       ...        ...\n",
      "8755          8756.0      6   0.25    winter     540.00\n",
      "8756          8757.0      6   0.25    winter     540.00\n",
      "8757          8758.0      6   0.25    winter     540.00\n",
      "8758          8759.0      6   0.25    winter     540.00\n",
      "8759          8760.0      6   0.25    winter     540.00\n",
      "\n",
      "[8760 rows x 5 columns]\n"
     ]
    }
   ],
   "source": [
    "#Assign the Group categories to season/hours\n",
    "\n",
    "#Create a list of season to the 8760 hours\n",
    "seasons = x2[x2['Region']==x2['Region'].iloc[0]]\n",
    "seasons = seasons[['Season','Hour_Counter']]\n",
    "print(seasons.head())\n",
    "#print(seasons.shape)\n",
    "\n",
    "#get the number of hours in each season\n",
    "season_count = seasons.groupby('Season',as_index=False).count().rename(columns={'Hour_Counter':'Season_Tot'})\n",
    "season_count = season_count.sort_values('Season')\n",
    "#print(season_count)\n",
    "#print()\n",
    "\n",
    "#read in the group shares data\n",
    "group = pd.read_csv('inputs/group_shares.csv')\n",
    "\n",
    "#combined the group shares data with the season/hours data\n",
    "#NOTE: if there are ever more than three seasons, this code should be updated\n",
    "group[season_count.iloc[0,0]] = group['Share']*season_count.iloc[0,1]\n",
    "group[season_count.iloc[1,0]] = group['Share']*season_count.iloc[1,1]\n",
    "group[season_count.iloc[2,0]] = group['Share']*season_count.iloc[2,1]\n",
    "group_sea = pd.melt(group,id_vars=['Group','Share'],var_name='Seasons',value_name='Season_Ct')\n",
    "group_sea['Season_Counter'] = group_sea['Season_Ct'].cumsum()\n",
    "group_sea['Season_Counter'] = round(group_sea['Season_Counter'])\n",
    "#print(group.dtypes)\n",
    "#print(group)\n",
    "#print(group_sea)\n",
    "#print()\n",
    "\n",
    "#Create a dataframe with 8760 numbers\n",
    "unique_hc = pd.Series(x['Hour_Counter'].unique()).dropna()\n",
    "unique_hc = pd.DataFrame(unique_hc,columns=['Season_Counter'])\n",
    "unique_hc['Season_Counter'] = unique_hc['Season_Counter']*1.0\n",
    "season_8760 = pd.merge_asof(unique_hc, group_sea, on='Season_Counter', direction='forward')\n",
    "print(unique_hc.tail())\n",
    "print(season_8760)\n",
    "#print(season_8760.shape)\n",
    "#print()\n"
   ]
  },
  {
   "cell_type": "code",
   "execution_count": 14,
   "metadata": {
    "scrolled": true
   },
   "outputs": [
    {
     "name": "stdout",
     "output_type": "stream",
     "text": [
      "          Region R_Group R_Subgroup    Season  Month  Day  Hour  Hour_Counter  \\\n",
      "0       ERC_PHDL     ERC       PHDL  shoulder      4   92     2          2186   \n",
      "1       ERC_PHDL     ERC       PHDL  shoulder      4  105     4          2500   \n",
      "2       ERC_PHDL     ERC       PHDL  shoulder      4  105     3          2499   \n",
      "3       ERC_PHDL     ERC       PHDL  shoulder      4   91     1          2161   \n",
      "4       ERC_PHDL     ERC       PHDL  shoulder      4  105     5          2501   \n",
      "...          ...     ...        ...       ...    ...  ...   ...           ...   \n",
      "867235  WEC_SDGE     WEC       SDGE    winter     12  348    13          8341   \n",
      "867236  WEC_SDGE     WEC       SDGE    winter     12  348    19          8347   \n",
      "867237  WEC_SDGE     WEC       SDGE    winter     12  348    20          8348   \n",
      "867238  WEC_SDGE     WEC       SDGE    winter     12  361    11          8651   \n",
      "867239  WEC_SDGE     WEC       SDGE    winter     12  361    12          8652   \n",
      "\n",
      "            TOD   TRG4  Season_Counter  Group  \n",
      "0         night  839.0               1      1  \n",
      "1         night  819.0               2      1  \n",
      "2         night  817.0               3      1  \n",
      "3         night  813.0               4      1  \n",
      "4         night  813.0               5      1  \n",
      "...         ...    ...             ...    ...  \n",
      "867235  middday    0.0            8756      6  \n",
      "867236  evening    0.0            8757      6  \n",
      "867237    night    0.0            8758      6  \n",
      "867238  middday    0.0            8759      6  \n",
      "867239  middday    0.0            8760      6  \n",
      "\n",
      "[867240 rows x 12 columns]\n",
      "\n",
      "          Region R_Group R_Subgroup  Season  Month  Day  Hour  Hour_Counter  \\\n",
      "867238  WEC_SDGE     WEC       SDGE  winter     12  361    11          8651   \n",
      "867239  WEC_SDGE     WEC       SDGE  winter     12  361    12          8652   \n",
      "\n",
      "            TOD  TRG4  Season_Counter  Group  \n",
      "867238  middday   0.0            8759      6  \n",
      "867239  middday   0.0            8760      6  \n",
      "\n",
      "number of rows in dataset = 867240\n"
     ]
    }
   ],
   "source": [
    "#Assign the load group categories to each of the 8760 hours\n",
    "\n",
    "x2 = x2.sort_values(['Region','Season',x_column], ascending=[True, True, False])\n",
    "x2 = x2.reset_index(drop=True)\n",
    "x2['Season_Counter'] = ( ( x2.index + 8760 ) % 8760 ) + 1\n",
    "x2['Season_Counter'] = x2['Season_Counter'].astype(int)\n",
    "#print(x2.head(2))\n",
    "#print(x2.dtypes)\n",
    "\n",
    "#Merge seasonal group data to the full dataframe\n",
    "x3 = pd.merge(x2,season_8760,on='Season_Counter',how='left')\n",
    "x3 = x3.drop(columns=['Share','Seasons','Season_Ct'])\n",
    "print(x3)\n",
    "print()\n",
    "print(x3.tail(2))\n",
    "print()\n",
    "print('number of rows in dataset =',x3.shape[0])"
   ]
  },
  {
   "cell_type": "code",
   "execution_count": 15,
   "metadata": {},
   "outputs": [
    {
     "name": "stdout",
     "output_type": "stream",
     "text": [
      "     Region    Season  Group      TOD  Hour_Tot  Wind_Gen_Tot  Wind_Gen_Avg\n",
      "0  ERC_PHDL  shoulder      1  middday         1         774.0    774.000000\n",
      "1  ERC_PHDL  shoulder      1  morning         2        1573.0    786.500000\n",
      "2  ERC_PHDL  shoulder      1    night        26       20663.0    794.730769\n",
      "number of rows in dataset = 3983\n",
      "\n",
      "        Region R_Group R_Subgroup  Season  Month  Day  Hour  Hour_Counter  \\\n",
      "6512  ERC_PHDL     ERC       PHDL  summer      9  247    10          5914   \n",
      "6511  ERC_PHDL     ERC       PHDL  summer      9  247    11          5915   \n",
      "6510  ERC_PHDL     ERC       PHDL  summer      7  204    12          4884   \n",
      "\n",
      "          TOD  TRG4  Season_Counter  Group  Hour_Tot  Wind_Gen_Tot  \\\n",
      "6512  middday  33.0            6600      6       666      133705.0   \n",
      "6511  middday  49.0            6599      6       666      133705.0   \n",
      "6510  middday  51.0            6598      6       666      133705.0   \n",
      "\n",
      "      Wind_Gen_Avg  \n",
      "6512    200.758258  \n",
      "6511    200.758258  \n",
      "6510    200.758258  \n",
      "number of rows in dataset = 867240\n"
     ]
    }
   ],
   "source": [
    "x3 = x3.sort_values(['Region','Season','Group','TOD'])\n",
    "\n",
    "aggregations = {x_column:['count',sum,'mean']}\n",
    "norm = x3.groupby(['Region','Season','Group','TOD'],as_index=False).agg(aggregations)\n",
    "norm.columns = norm.columns.droplevel(0)\n",
    "norm.columns = ['Region','Season','Group','TOD','Hour_Tot',x_name2+'_Tot',x_name2+'_Avg']\n",
    "print(norm.head(3))\n",
    "print('number of rows in dataset =',norm.shape[0])\n",
    "norm.to_csv('../outputs/'+x_name+'_segments_NORM.csv')\n",
    "print()\n",
    "\n",
    "x4 = pd.merge(x3,norm,on=['Region','Season','Group','TOD'],how='left')\n",
    "x4 = x4.sort_values(['Region',x_column])\n",
    "print(x4.head(3))\n",
    "print('number of rows in dataset =',x4.shape[0])\n",
    "x4.to_csv('../outputs/'+x_name+'_8760_NORM.csv')\n"
   ]
  },
  {
   "cell_type": "code",
   "execution_count": 7,
   "metadata": {},
   "outputs": [
    {
     "data": {
      "image/png": "[encoded data removed]",
      "text/plain": [
       "<Figure size 432x288 with 1 Axes>"
      ]
     },
     "metadata": {
      "needs_background": "light"
     },
     "output_type": "display_data"
    }
   ],
   "source": [
    "%matplotlib inline\n",
    "import matplotlib.pyplot as plt\n",
    "\n",
    "x4 = x4.sort_values(by=['Region','Season_Counter'])\n",
    "plt.plot(x4[x_column].values)\n",
    "plt.title('IPM modeled load')\n",
    "plt.xlabel('Hours')\n",
    "plt.ylabel(x_name2)\n",
    "\n",
    "x4 = x4.sort_values(by=['Region','Season',x_name2+'_Avg'],ascending=[True, True, False])\n",
    "plt.plot(x4[x_name2+'_Avg'].values)\n",
    "plt.title(x_name2+' comparison')\n",
    "plt.xlabel('hours')\n",
    "plt.ylabel(x_name2)\n",
    "\n",
    "plt.show()"
   ]
  },
  {
   "cell_type": "code",
   "execution_count": null,
   "metadata": {},
   "outputs": [],
   "source": [
    "fig, axis = plt.subplots()\n",
    "\n",
    "axis.yaxis.grid(True)\n",
    "axis.set_title(x_name2+' comparison')\n",
    "axis.set_xlabel('modeled load')\n",
    "axis.set_ylabel('actual load')\n",
    "\n",
    "X = x4[x_name2+'_Avg']/1000\n",
    "Y = x4[x_column]/1000\n",
    "\n",
    "axis.scatter(X, Y)\n",
    "plt.show()"
   ]
  },
  {
   "cell_type": "markdown",
   "metadata": {},
   "source": [
    "# Case 2: Grouping Time of Day before Group\n",
    "### Details: Regions will be split first by season, then time of day, then group\n",
    "#### Methodology: Use same methods & code as norm case, but switch order of groupby for group and time of day"
   ]
  },
  {
   "cell_type": "code",
   "execution_count": 3,
   "metadata": {},
   "outputs": [
    {
     "name": "stdout",
     "output_type": "stream",
     "text": [
      "\n",
      "     Region R_Group R_Subgroup  Season  Month  Day  Hour  Hour_Counter    TOD  \\\n",
      "0  ERC_PHDL     ERC       PHDL  winter      1    1     1             1  night   \n",
      "1  ERC_PHDL     ERC       PHDL  winter      1    1     2             2  night   \n",
      "\n",
      "    TRG4  \n",
      "0  653.0  \n",
      "1  687.0  \n"
     ]
    }
   ],
   "source": [
    "#Assign the time of day (TOD) categories to hours\n",
    "\n",
    "#Read in the time of day categories\n",
    "tod = pd.read_csv('inputs/time_of_day.csv')\n",
    "#print(tod)\n",
    "\n",
    "#merge the time of data categories to the dataframe\n",
    "tod_x = pd.merge(x,tod,on='Hour',how='left')\n",
    "tod_x = tod_x.drop(tod_x.columns[0],axis=1)\n",
    "tod_x = tod_x[['Region','R_Group','R_Subgroup','Season','Month','Day','Hour','Hour_Counter','TOD',x_column]]\n",
    "print()\n",
    "print(tod_x.head(2))\n"
   ]
  },
  {
   "cell_type": "code",
   "execution_count": 4,
   "metadata": {},
   "outputs": [],
   "source": [
    "#Assign the Group categories to season/hours\n",
    "\n",
    "#Create a list of season to the 8760 hours\n",
    "seasons2 = tod_x[tod_x['Region']==tod_x['Region'].iloc[0]]\n",
    "seasons2 = seasons2[['Season','Hour_Counter']]\n",
    "#print(seasons2.head())\n",
    "#print(seasons2.shape)\n",
    "\n",
    "#get the number of hours in each season\n",
    "season2_count = seasons2.groupby('Season',as_index=False).count().rename(columns={'Hour_Counter':'Season_Tot'})\n",
    "season2_count = season2_count.sort_values('Season')\n",
    "#print(season2_count)\n",
    "#print()\n",
    "\n",
    "#read in the group shares data\n",
    "group3 = pd.read_csv('inputs/group_shares.csv')\n",
    "\n",
    "#combined the group shares data with the season/hours data\n",
    "#NOTE: if there are ever more than three seasons, this code should be updated\n",
    "group3[season2_count.iloc[0,0]] = group3['Share']*season2_count.iloc[0,1]\n",
    "group3[season2_count.iloc[1,0]] = group3['Share']*season2_count.iloc[1,1]\n",
    "group3[season2_count.iloc[2,0]] = group3['Share']*season2_count.iloc[2,1]\n",
    "group2_sea = pd.melt(group3,id_vars=['Group','Share'],var_name='Seasons',value_name='Season_Ct')\n",
    "group2_sea['Season_Counter'] = group2_sea['Season_Ct'].cumsum()\n",
    "group2_sea['Season_Counter'] = round(group2_sea['Season_Counter'])\n",
    "#print(group.dtypes)\n",
    "#print(group)\n",
    "#print(group_sea)\n",
    "#print()\n",
    "\n",
    "#Create a dataframe with 8760 numbers\n",
    "unique_hc2 = pd.Series(x['Hour_Counter'].unique()).dropna()\n",
    "unique_hc2 = pd.DataFrame(unique_hc2,columns=['Season_Counter'])\n",
    "unique_hc2['Season_Counter'] = unique_hc2['Season_Counter']*1.0\n",
    "season2_8760 = pd.merge_asof(unique_hc2, group2_sea, on='Season_Counter', direction='forward')\n",
    "#print(unique_hc.tail())\n",
    "#print(season_8760.tail(3))\n",
    "#print(season_8760.shape)\n",
    "#print()"
   ]
  },
  {
   "cell_type": "code",
   "execution_count": 5,
   "metadata": {},
   "outputs": [
    {
     "name": "stdout",
     "output_type": "stream",
     "text": [
      "     Region R_Group R_Subgroup    Season  Month  Day  Hour  Hour_Counter  \\\n",
      "0  ERC_PHDL     ERC       PHDL  shoulder      4   92     2          2186   \n",
      "1  ERC_PHDL     ERC       PHDL  shoulder      4  105     4          2500   \n",
      "\n",
      "     TOD   TRG4  Season_Counter  Group  \n",
      "0  night  839.0               1      1  \n",
      "1  night  819.0               2      1  \n",
      "\n",
      "          Region R_Group R_Subgroup  Season  Month  Day  Hour  Hour_Counter  \\\n",
      "867238  WEC_SDGE     WEC       SDGE  winter     12  361    11          8651   \n",
      "867239  WEC_SDGE     WEC       SDGE  winter     12  361    12          8652   \n",
      "\n",
      "            TOD  TRG4  Season_Counter  Group  \n",
      "867238  middday   0.0            8759      6  \n",
      "867239  middday   0.0            8760      6  \n",
      "\n",
      "number of rows in dataset = 867240\n"
     ]
    }
   ],
   "source": [
    "#Assign the load group categories to each of the 8760 hours\n",
    "\n",
    "#Create the seasonal counter in the load dataset to merge with\n",
    "tod_x = tod_x.sort_values(['Region','Season',x_column], ascending=[True, True, False])\n",
    "tod_x = tod_x.reset_index(drop=True)\n",
    "tod_x['Season_Counter'] = ( ( tod_x.index + 8760 ) % 8760 ) + 1\n",
    "tod_x['Season_Counter'] = tod_x['Season_Counter'].astype(int)\n",
    "#print(tod_x.head(2))\n",
    "#print(tod_x.dtypes)\n",
    "\n",
    "#Merge seasonal group data to the full dataframe\n",
    "tod_x_2 = pd.merge(tod_x,season2_8760,on='Season_Counter',how='left')\n",
    "tod_x_2 = tod_x_2.drop(columns=['Share','Seasons','Season_Ct'])\n",
    "print(tod_x_2.head(2))\n",
    "print()\n",
    "print(tod_x_2.tail(2))\n",
    "print()\n",
    "print('number of rows in dataset =',tod_x_2.shape[0])"
   ]
  },
  {
   "cell_type": "code",
   "execution_count": 6,
   "metadata": {},
   "outputs": [
    {
     "name": "stdout",
     "output_type": "stream",
     "text": [
      "     Region    Season      TOD  Group  Hour_Tot  Wind_Gen_Tot  Wind_Gen_Avg\n",
      "0  ERC_PHDL  shoulder  evening      2         6        4464.0    744.000000\n",
      "1  ERC_PHDL  shoulder  evening      3         8        5519.0    689.875000\n",
      "2  ERC_PHDL  shoulder  evening      4        78       46590.0    597.307692\n",
      "number of rows in dataset = 3983\n",
      "\n",
      "        Region R_Group R_Subgroup  Season  Month  Day  Hour  Hour_Counter  \\\n",
      "4610  ERC_PHDL     ERC       PHDL  summer      9  247    10          5914   \n",
      "4609  ERC_PHDL     ERC       PHDL  summer      9  247    11          5915   \n",
      "4608  ERC_PHDL     ERC       PHDL  summer      7  204    12          4884   \n",
      "\n",
      "          TOD  TRG4  Season_Counter  Group  Hour_Tot  Wind_Gen_Tot  \\\n",
      "4610  middday  33.0            6600      6       666      133705.0   \n",
      "4609  middday  49.0            6599      6       666      133705.0   \n",
      "4608  middday  51.0            6598      6       666      133705.0   \n",
      "\n",
      "      Wind_Gen_Avg  \n",
      "4610    200.758258  \n",
      "4609    200.758258  \n",
      "4608    200.758258  \n",
      "number of rows in dataset = 867240\n"
     ]
    }
   ],
   "source": [
    "tod_x_2 = tod_x_2.sort_values(['Region','Season','TOD','Group'])\n",
    "\n",
    "aggregations = {x_column:['count',sum,'mean']}\n",
    "case2 = tod_x_2.groupby(['Region','Season','TOD','Group'],as_index=False).agg(aggregations)\n",
    "case2.columns = case2.columns.droplevel(0)\n",
    "case2.columns = ['Region','Season','TOD','Group','Hour_Tot',x_name2+'_Tot',x_name2+'_Avg']\n",
    "print(case2.head(3))\n",
    "print('number of rows in dataset =',case2.shape[0])\n",
    "case2.to_csv('../outputs/'+x_name+'_segments_timeofday.csv')\n",
    "print()\n",
    "\n",
    "tod_x_3 = pd.merge(tod_x_2,case2,on=['Region','Season','TOD','Group'],how='left')\n",
    "tod_x_3 = tod_x_3.sort_values(['Region',x_column])\n",
    "print(tod_x_3.head(3))\n",
    "print('number of rows in dataset =',tod_x_3.shape[0])\n",
    "tod_x_3.to_csv('../outputs/'+x_name+'_8760_timeofday.csv')\n"
   ]
  },
  {
   "cell_type": "markdown",
   "metadata": {},
   "source": [
    "### Plot of a single region"
   ]
  },
  {
   "cell_type": "code",
   "execution_count": 34,
   "metadata": {},
   "outputs": [
    {
     "data": {
      "image/png": "[encoded data removed]",
      "text/plain": [
       "<Figure size 432x288 with 1 Axes>"
      ]
     },
     "metadata": {
      "needs_background": "light"
     },
     "output_type": "display_data"
    }
   ],
   "source": [
    "#plot when testing a single region \n",
    "%matplotlib inline\n",
    "import matplotlib.pyplot as plt\n",
    "\n",
    "tod_x_3 = tod_x_3.sort_values(by=['Region','Season_Counter'])\n",
    "plt.plot(tod_x_3[x_column].values)\n",
    "plt.title('IPM modeled load')\n",
    "plt.xlabel('Hours')\n",
    "plt.ylabel(x_name2)\n",
    "\n",
    "tod_x_3 = tod_x_3.sort_values(by=['Region','Season',x_name2+'_Avg'],ascending=[True, True, False])\n",
    "plt.plot(tod_x_3[x_name2+'_Avg'].values)\n",
    "plt.title(x_name2+' comparison')\n",
    "plt.xlabel('hours')\n",
    "plt.ylabel(x_column)\n",
    "\n",
    "plt.show()"
   ]
  },
  {
   "cell_type": "markdown",
   "metadata": {},
   "source": [
    "# Sequential Approach \n",
    "### Details: Split into different hour intervals (2, 4, 8, 12, 24, 48, 120) to test the accuracy of the load estimations\n",
    "#### Methodology: use a single csv numbered from 1 to 8760 to identify the groups that each hour will go in "
   ]
  },
  {
   "cell_type": "code",
   "execution_count": 3,
   "metadata": {},
   "outputs": [],
   "source": [
    "#load useful info into notebook\n",
    "seq_x = x.copy()\n",
    "seq_intervals = pd.read_csv('inputs/sequential_hours.csv')"
   ]
  },
  {
   "cell_type": "markdown",
   "metadata": {},
   "source": [
    "#### 2 hour interval"
   ]
  },
  {
   "cell_type": "code",
   "execution_count": 8,
   "metadata": {},
   "outputs": [
    {
     "name": "stdout",
     "output_type": "stream",
     "text": [
      "          Region R_Group R_Subgroup  Season  Month  Day  Hour   TRG1   TRG2  \\\n",
      "0       ERC_PHDL     ERC       PHDL  summer      9  247    10  169.0  119.0   \n",
      "1       ERC_PHDL     ERC       PHDL  summer      9  247    11  168.0  120.0   \n",
      "2       ERC_PHDL     ERC       PHDL  summer      7  204    12  109.0   99.0   \n",
      "3       ERC_PHDL     ERC       PHDL  summer      7  204     9  107.0   98.0   \n",
      "4       ERC_PHDL     ERC       PHDL  summer      7  210    13   68.0   72.0   \n",
      "...          ...     ...        ...     ...    ...  ...   ...    ...    ...   \n",
      "867235  WEC_SDGE     WEC       SDGE  winter     12  356     2  878.0  896.0   \n",
      "867236  WEC_SDGE     WEC       SDGE  winter     12  356     3  878.0  896.0   \n",
      "867237  WEC_SDGE     WEC       SDGE  winter     12  356     4  877.0  895.0   \n",
      "867238  WEC_SDGE     WEC       SDGE  winter     12  356     5  877.0  896.0   \n",
      "867239  WEC_SDGE     WEC       SDGE  winter     12  356     6  877.0  895.0   \n",
      "\n",
      "         TRG3   TRG4   TRG5   TRG6  Hour_Counter  2-hr  2-hr_Wind_Gen_Tot  \\\n",
      "0       112.0   33.0  139.0  119.0          5914  2957              116.0   \n",
      "1       102.0   49.0  181.0  155.0          5915  2958              112.0   \n",
      "2        81.0   51.0   75.0   57.0          4884  2442              108.0   \n",
      "3        80.0   53.0  200.0  156.0          4881  2441              111.0   \n",
      "4       110.0   55.0  262.0  167.0          5029  2515              140.0   \n",
      "...       ...    ...    ...    ...           ...   ...                ...   \n",
      "867235  897.0  878.0  826.0  752.0          8522  4261             1756.0   \n",
      "867236  897.0  878.0  820.0  728.0          8523  4262             1756.0   \n",
      "867237  897.0  878.0  820.0  727.0          8524  4262             1756.0   \n",
      "867238  897.0  878.0  819.0  713.0          8525  4263             1756.0   \n",
      "867239  897.0  878.0  812.0  683.0          8526  4263             1756.0   \n",
      "\n",
      "        2-hr_Wind_Gen_Avg  \n",
      "0                    58.0  \n",
      "1                    56.0  \n",
      "2                    54.0  \n",
      "3                    55.5  \n",
      "4                    70.0  \n",
      "...                   ...  \n",
      "867235              878.0  \n",
      "867236              878.0  \n",
      "867237              878.0  \n",
      "867238              878.0  \n",
      "867239              878.0  \n",
      "\n",
      "[867240 rows x 17 columns]\n",
      "number of rows in dataset = 867240\n"
     ]
    }
   ],
   "source": [
    "#start with 2 hour interval\n",
    "seq_2hr = seq_x.copy()\n",
    "seq_2hr = pd.merge(seq_2hr, seq_intervals, on='Hour_Counter', how='left')\n",
    "seq_2hr = seq_2hr.drop(seq_2hr.columns[0], axis=1)\n",
    "seq_2hr = seq_2hr.drop(columns=['4-hr','8-hr','12-hr','24-hr','48-hr','120-hr'])\n",
    "#print(seq_2hr)\n",
    "\n",
    "#average load based on order of groups\n",
    "aggregations = {x_column:[sum,'mean']}\n",
    "case_2hr = seq_2hr.groupby(['Region','2-hr'],as_index=False).agg(aggregations)\n",
    "case_2hr.columns = case_2hr.columns.droplevel(0)\n",
    "case_2hr.columns = ['Region','2-hr','2-hr_'+x_name2+'_Tot','2-hr_'+x_name2+'_Avg']\n",
    "#print(case_2hr.head())\n",
    "#print('number of rows in dataset =',case_2hr.shape[0])\n",
    "case_2hr.to_csv('../outputs/'+x_name+'_segments_seq_2hr.csv')\n",
    "#print()\n",
    "\n",
    "seq_2hr_2 = pd.merge(seq_2hr,case_2hr,on=['Region','2-hr'],how='left')\n",
    "seq_2hr_2 = seq_2hr_2.sort_values(['Region',x_column]).reset_index(drop=True)\n",
    "print(seq_2hr_2)\n",
    "print('number of rows in dataset =',seq_2hr_2.shape[0])\n",
    "seq_2hr_2.to_csv('../outputs/'+x_name+'_8760_seq_2hr.csv')"
   ]
  },
  {
   "cell_type": "markdown",
   "metadata": {},
   "source": [
    "#### 4 hour interval"
   ]
  },
  {
   "cell_type": "code",
   "execution_count": 9,
   "metadata": {},
   "outputs": [
    {
     "name": "stdout",
     "output_type": "stream",
     "text": [
      "          Region R_Group R_Subgroup  Season  Month  Day  Hour   TRG1   TRG2  \\\n",
      "0       ERC_PHDL     ERC       PHDL  summer      9  247    10  169.0  119.0   \n",
      "1       ERC_PHDL     ERC       PHDL  summer      9  247    11  168.0  120.0   \n",
      "2       ERC_PHDL     ERC       PHDL  summer      7  204    12  109.0   99.0   \n",
      "3       ERC_PHDL     ERC       PHDL  summer      7  204     9  107.0   98.0   \n",
      "4       ERC_PHDL     ERC       PHDL  summer      7  210    13   68.0   72.0   \n",
      "...          ...     ...        ...     ...    ...  ...   ...    ...    ...   \n",
      "867235  WEC_SDGE     WEC       SDGE  winter     12  356     2  878.0  896.0   \n",
      "867236  WEC_SDGE     WEC       SDGE  winter     12  356     3  878.0  896.0   \n",
      "867237  WEC_SDGE     WEC       SDGE  winter     12  356     4  877.0  895.0   \n",
      "867238  WEC_SDGE     WEC       SDGE  winter     12  356     5  877.0  896.0   \n",
      "867239  WEC_SDGE     WEC       SDGE  winter     12  356     6  877.0  895.0   \n",
      "\n",
      "         TRG3   TRG4   TRG5   TRG6  Hour_Counter  4-hr  4-hr_+Wind_Gen_Tot  \\\n",
      "0       112.0   33.0  139.0  119.0          5914  1479               228.0   \n",
      "1       102.0   49.0  181.0  155.0          5915  1479               228.0   \n",
      "2        81.0   51.0   75.0   57.0          4884  1221               219.0   \n",
      "3        80.0   53.0  200.0  156.0          4881  1221               219.0   \n",
      "4       110.0   55.0  262.0  167.0          5029  1258               446.0   \n",
      "...       ...    ...    ...    ...           ...   ...                 ...   \n",
      "867235  897.0  878.0  826.0  752.0          8522  2131              3512.0   \n",
      "867236  897.0  878.0  820.0  728.0          8523  2131              3512.0   \n",
      "867237  897.0  878.0  820.0  727.0          8524  2131              3512.0   \n",
      "867238  897.0  878.0  819.0  713.0          8525  2132              3508.0   \n",
      "867239  897.0  878.0  812.0  683.0          8526  2132              3508.0   \n",
      "\n",
      "        4-hr_Wind_Gen_Avg  \n",
      "0                   57.00  \n",
      "1                   57.00  \n",
      "2                   54.75  \n",
      "3                   54.75  \n",
      "4                  111.50  \n",
      "...                   ...  \n",
      "867235             878.00  \n",
      "867236             878.00  \n",
      "867237             878.00  \n",
      "867238             877.00  \n",
      "867239             877.00  \n",
      "\n",
      "[867240 rows x 17 columns]\n",
      "number of rows in dataset = 867240\n"
     ]
    }
   ],
   "source": [
    "seq_4hr = seq_x.copy()\n",
    "seq_4hr = pd.merge(seq_4hr, seq_intervals, on='Hour_Counter', how='left')\n",
    "seq_4hr = seq_4hr.drop(seq_4hr.columns[0], axis=1)\n",
    "seq_4hr = seq_4hr.drop(columns=['2-hr','8-hr','12-hr','24-hr','48-hr','120-hr'])\n",
    "#print(seq_4hr)\n",
    "\n",
    "#average load based on order of groups\n",
    "aggregations = {x_column:[sum,'mean']}\n",
    "case_4hr = seq_4hr.groupby(['Region','4-hr'],as_index=False).agg(aggregations)\n",
    "case_4hr.columns = case_4hr.columns.droplevel(0)\n",
    "case_4hr.columns = ['Region','4-hr','4-hr_+'+x_name2+'_Tot','4-hr_'+x_name2+'_Avg']\n",
    "#print(case_4hr.head())\n",
    "#print('number of rows in dataset =',case_4hr.shape[0])\n",
    "case_4hr.to_csv('../outputs/'+x_name+'_segments_seq_4hr.csv')\n",
    "#print()\n",
    "\n",
    "seq_4hr_2 = pd.merge(seq_4hr,case_4hr,on=['Region','4-hr'],how='left')\n",
    "seq_4hr_2 = seq_4hr_2.sort_values(['Region',x_column]).reset_index(drop=True)\n",
    "print(seq_4hr_2)\n",
    "print('number of rows in dataset =',seq_4hr_2.shape[0])\n",
    "seq_4hr_2.to_csv('../outputs/'+x_name+'_8760_seq_4hr.csv')"
   ]
  },
  {
   "cell_type": "markdown",
   "metadata": {},
   "source": [
    "#### 8 hour interval"
   ]
  },
  {
   "cell_type": "code",
   "execution_count": 3,
   "metadata": {},
   "outputs": [
    {
     "name": "stdout",
     "output_type": "stream",
     "text": [
      "          Region R_Group R_Subgroup  Season  Month  Day  Hour   TRG1   TRG2  \\\n",
      "0       ERC_PHDL     ERC       PHDL  summer      9  247    10  169.0  119.0   \n",
      "1       ERC_PHDL     ERC       PHDL  summer      9  247    11  168.0  120.0   \n",
      "2       ERC_PHDL     ERC       PHDL  summer      7  204    12  109.0   99.0   \n",
      "3       ERC_PHDL     ERC       PHDL  summer      7  204     9  107.0   98.0   \n",
      "4       ERC_PHDL     ERC       PHDL  summer      7  210    13   68.0   72.0   \n",
      "...          ...     ...        ...     ...    ...  ...   ...    ...    ...   \n",
      "867235  WEC_SDGE     WEC       SDGE  winter     12  356     2  878.0  896.0   \n",
      "867236  WEC_SDGE     WEC       SDGE  winter     12  356     3  878.0  896.0   \n",
      "867237  WEC_SDGE     WEC       SDGE  winter     12  356     4  877.0  895.0   \n",
      "867238  WEC_SDGE     WEC       SDGE  winter     12  356     5  877.0  896.0   \n",
      "867239  WEC_SDGE     WEC       SDGE  winter     12  356     6  877.0  895.0   \n",
      "\n",
      "         TRG3   TRG4   TRG5   TRG6  Hour_Counter  8-hr  8-hr_Wind_Gen_Tot  \\\n",
      "0       112.0   33.0  139.0  119.0          5914   740              612.0   \n",
      "1       102.0   49.0  181.0  155.0          5915   740              612.0   \n",
      "2        81.0   51.0   75.0   57.0          4884   611              681.0   \n",
      "3        80.0   53.0  200.0  156.0          4881   611              681.0   \n",
      "4       110.0   55.0  262.0  167.0          5029   629              812.0   \n",
      "...       ...    ...    ...    ...           ...   ...                ...   \n",
      "867235  897.0  878.0  826.0  752.0          8522  1066             7020.0   \n",
      "867236  897.0  878.0  820.0  728.0          8523  1066             7020.0   \n",
      "867237  897.0  878.0  820.0  727.0          8524  1066             7020.0   \n",
      "867238  897.0  878.0  819.0  713.0          8525  1066             7020.0   \n",
      "867239  897.0  878.0  812.0  683.0          8526  1066             7020.0   \n",
      "\n",
      "        8-hr_wind_Avg  \n",
      "0              76.500  \n",
      "1              76.500  \n",
      "2              85.125  \n",
      "3              85.125  \n",
      "4             101.500  \n",
      "...               ...  \n",
      "867235        877.500  \n",
      "867236        877.500  \n",
      "867237        877.500  \n",
      "867238        877.500  \n",
      "867239        877.500  \n",
      "\n",
      "[867240 rows x 17 columns]\n",
      "number of rows in dataset = 867240\n"
     ]
    }
   ],
   "source": [
    "seq_8hr = seq_x.copy()\n",
    "seq_8hr = pd.merge(seq_8hr, seq_intervals, on='Hour_Counter', how='left')\n",
    "seq_8hr = seq_8hr.drop(seq_8hr.columns[0], axis=1)\n",
    "seq_8hr = seq_8hr.drop(columns=['2-hr','4-hr','12-hr','24-hr','48-hr','120-hr'])\n",
    "#print(seq_8hr)\n",
    "\n",
    "#average based on order of groups\n",
    "aggregations = {x_column:[sum,'mean']}\n",
    "case_8hr = seq_8hr.groupby(['Region','8-hr'],as_index=False).agg(aggregations)\n",
    "case_8hr.columns = case_8hr.columns.droplevel(0)\n",
    "case_8hr.columns = ['Region','8-hr','8-hr_'+x_name2+'_Tot','8-hr_'+x_name+'_Avg']\n",
    "#print(case_8hr.head())\n",
    "#print('number of rows in dataset =',case_8hr.shape[0])\n",
    "case_8hr.to_csv('../outputs/'+x_name+'_segments_seq_8hr.csv')\n",
    "#print()\n",
    "\n",
    "seq_8hr_2 = pd.merge(seq_8hr,case_8hr,on=['Region','8-hr'],how='left')\n",
    "seq_8hr_2 = seq_8hr_2.sort_values(['Region',x_column]).reset_index(drop=True)\n",
    "print(seq_8hr_2)\n",
    "print('number of rows in dataset =',seq_8hr_2.shape[0])\n",
    "seq_8hr_2.to_csv('../outputs/'+x_name+'_8760_seq_8hr.csv')"
   ]
  },
  {
   "cell_type": "markdown",
   "metadata": {},
   "source": [
    "#### 12 hour interval"
   ]
  },
  {
   "cell_type": "code",
   "execution_count": 4,
   "metadata": {},
   "outputs": [
    {
     "name": "stdout",
     "output_type": "stream",
     "text": [
      "          Region R_Group R_Subgroup  Season  Month  Day  Hour   TRG1   TRG2  \\\n",
      "0       ERC_PHDL     ERC       PHDL  summer      9  247    10  169.0  119.0   \n",
      "1       ERC_PHDL     ERC       PHDL  summer      9  247    11  168.0  120.0   \n",
      "2       ERC_PHDL     ERC       PHDL  summer      7  204    12  109.0   99.0   \n",
      "3       ERC_PHDL     ERC       PHDL  summer      7  204     9  107.0   98.0   \n",
      "4       ERC_PHDL     ERC       PHDL  summer      7  210    13   68.0   72.0   \n",
      "...          ...     ...        ...     ...    ...  ...   ...    ...    ...   \n",
      "867235  WEC_SDGE     WEC       SDGE  winter     12  356     2  878.0  896.0   \n",
      "867236  WEC_SDGE     WEC       SDGE  winter     12  356     3  878.0  896.0   \n",
      "867237  WEC_SDGE     WEC       SDGE  winter     12  356     4  877.0  895.0   \n",
      "867238  WEC_SDGE     WEC       SDGE  winter     12  356     5  877.0  896.0   \n",
      "867239  WEC_SDGE     WEC       SDGE  winter     12  356     6  877.0  895.0   \n",
      "\n",
      "         TRG3   TRG4   TRG5   TRG6  Hour_Counter  12-hr  12-hr_Wind_Gen_Tot  \\\n",
      "0       112.0   33.0  139.0  119.0          5914    493              2541.0   \n",
      "1       102.0   49.0  181.0  155.0          5915    493              2541.0   \n",
      "2        81.0   51.0   75.0   57.0          4884    407              3614.0   \n",
      "3        80.0   53.0  200.0  156.0          4881    407              3614.0   \n",
      "4       110.0   55.0  262.0  167.0          5029    420              2659.0   \n",
      "...       ...    ...    ...    ...           ...    ...                 ...   \n",
      "867235  897.0  878.0  826.0  752.0          8522    711             10443.0   \n",
      "867236  897.0  878.0  820.0  728.0          8523    711             10443.0   \n",
      "867237  897.0  878.0  820.0  727.0          8524    711             10443.0   \n",
      "867238  897.0  878.0  819.0  713.0          8525    711             10443.0   \n",
      "867239  897.0  878.0  812.0  683.0          8526    711             10443.0   \n",
      "\n",
      "        12-hr_Wind_Gen_Avg  \n",
      "0               211.750000  \n",
      "1               211.750000  \n",
      "2               301.166667  \n",
      "3               301.166667  \n",
      "4               221.583333  \n",
      "...                    ...  \n",
      "867235          870.250000  \n",
      "867236          870.250000  \n",
      "867237          870.250000  \n",
      "867238          870.250000  \n",
      "867239          870.250000  \n",
      "\n",
      "[867240 rows x 17 columns]\n",
      "number of rows in dataset = 867240\n"
     ]
    }
   ],
   "source": [
    "seq_12hr = seq_x.copy()\n",
    "seq_12hr = pd.merge(seq_12hr, seq_intervals, on='Hour_Counter', how='left')\n",
    "seq_12hr = seq_12hr.drop(seq_12hr.columns[0], axis=1)\n",
    "seq_12hr = seq_12hr.drop(columns=['2-hr','4-hr','8-hr','24-hr','48-hr','120-hr'])\n",
    "#print(seq_12hr)\n",
    "\n",
    "#average based on order of groups\n",
    "aggregations = {x_column:[sum,'mean']}\n",
    "case_12hr = seq_12hr.groupby(['Region','12-hr'],as_index=False).agg(aggregations)\n",
    "case_12hr.columns = case_12hr.columns.droplevel(0)\n",
    "case_12hr.columns = ['Region','12-hr','12-hr_'+x_name2+'_Tot','12-hr_'+x_name2+'_Avg']\n",
    "#print(case_12hr.head())\n",
    "#print('number of rows in dataset =',case_12hr.shape[0])\n",
    "case_12hr.to_csv('../outputs/'+x_name+'_segments_seq_12hr.csv')\n",
    "#print()\n",
    "\n",
    "seq_12hr_2 = pd.merge(seq_12hr,case_12hr,on=['Region','12-hr'],how='left')\n",
    "seq_12hr_2 = seq_12hr_2.sort_values(['Region',x_column]).reset_index(drop=True)\n",
    "print(seq_12hr_2)\n",
    "print('number of rows in dataset =',seq_12hr_2.shape[0])\n",
    "seq_12hr_2.to_csv('../outputs/'+x_name+'_8760_seq_12hr.csv')"
   ]
  },
  {
   "cell_type": "markdown",
   "metadata": {},
   "source": [
    "#### 24 hour interval"
   ]
  },
  {
   "cell_type": "code",
   "execution_count": 5,
   "metadata": {},
   "outputs": [
    {
     "name": "stdout",
     "output_type": "stream",
     "text": [
      "          Region R_Group R_Subgroup  Season  Month  Day  Hour   TRG1   TRG2  \\\n",
      "0       ERC_PHDL     ERC       PHDL  summer      9  247    10  169.0  119.0   \n",
      "1       ERC_PHDL     ERC       PHDL  summer      9  247    11  168.0  120.0   \n",
      "2       ERC_PHDL     ERC       PHDL  summer      7  204    12  109.0   99.0   \n",
      "3       ERC_PHDL     ERC       PHDL  summer      7  204     9  107.0   98.0   \n",
      "4       ERC_PHDL     ERC       PHDL  summer      7  210    13   68.0   72.0   \n",
      "...          ...     ...        ...     ...    ...  ...   ...    ...    ...   \n",
      "867235  WEC_SDGE     WEC       SDGE  winter     12  356     2  878.0  896.0   \n",
      "867236  WEC_SDGE     WEC       SDGE  winter     12  356     3  878.0  896.0   \n",
      "867237  WEC_SDGE     WEC       SDGE  winter     12  356     4  877.0  895.0   \n",
      "867238  WEC_SDGE     WEC       SDGE  winter     12  356     5  877.0  896.0   \n",
      "867239  WEC_SDGE     WEC       SDGE  winter     12  356     6  877.0  895.0   \n",
      "\n",
      "         TRG3   TRG4   TRG5   TRG6  Hour_Counter  24-hr  24-hr_Wind_Gen_Tot  \\\n",
      "0       112.0   33.0  139.0  119.0          5914    247              6144.0   \n",
      "1       102.0   49.0  181.0  155.0          5915    247              6144.0   \n",
      "2        81.0   51.0   75.0   57.0          4884    204              7451.0   \n",
      "3        80.0   53.0  200.0  156.0          4881    204              7451.0   \n",
      "4       110.0   55.0  262.0  167.0          5029    210              6333.0   \n",
      "...       ...    ...    ...    ...           ...    ...                 ...   \n",
      "867235  897.0  878.0  826.0  752.0          8522    356             20560.0   \n",
      "867236  897.0  878.0  820.0  728.0          8523    356             20560.0   \n",
      "867237  897.0  878.0  820.0  727.0          8524    356             20560.0   \n",
      "867238  897.0  878.0  819.0  713.0          8525    356             20560.0   \n",
      "867239  897.0  878.0  812.0  683.0          8526    356             20560.0   \n",
      "\n",
      "        24-hr_Wind_Gen_Avg  \n",
      "0               256.000000  \n",
      "1               256.000000  \n",
      "2               310.458333  \n",
      "3               310.458333  \n",
      "4               263.875000  \n",
      "...                    ...  \n",
      "867235          856.666667  \n",
      "867236          856.666667  \n",
      "867237          856.666667  \n",
      "867238          856.666667  \n",
      "867239          856.666667  \n",
      "\n",
      "[867240 rows x 17 columns]\n",
      "number of rows in dataset = 867240\n"
     ]
    }
   ],
   "source": [
    "seq_24hr = seq_x.copy()\n",
    "seq_24hr = pd.merge(seq_24hr, seq_intervals, on='Hour_Counter', how='left')\n",
    "seq_24hr = seq_24hr.drop(seq_24hr.columns[0], axis=1)\n",
    "seq_24hr = seq_24hr.drop(columns=['2-hr','4-hr','8-hr','12-hr','48-hr','120-hr'])\n",
    "#print(seq_24hr)\n",
    "\n",
    "#average based on order of groups\n",
    "aggregations = {x_column:[sum,'mean']}\n",
    "case_24hr = seq_24hr.groupby(['Region','24-hr'],as_index=False).agg(aggregations)\n",
    "case_24hr.columns = case_24hr.columns.droplevel(0)\n",
    "case_24hr.columns = ['Region','24-hr','24-hr_'+x_name2+'_Tot','24-hr_'+x_name2+'_Avg']\n",
    "#print(case_24hr.head())\n",
    "#print('number of rows in dataset =',case_24hr.shape[0])\n",
    "case_24hr.to_csv('../outputs/'+x_name+'_segments_seq_24hr.csv')\n",
    "#print()\n",
    "\n",
    "seq_24hr_2 = pd.merge(seq_24hr,case_24hr,on=['Region','24-hr'],how='left')\n",
    "seq_24hr_2 = seq_24hr_2.sort_values(['Region',x_column]).reset_index(drop=True)\n",
    "print(seq_24hr_2)\n",
    "print('number of rows in dataset =',seq_24hr_2.shape[0])\n",
    "seq_24hr_2.to_csv('../outputs/'+x_name+'_8760_seq_24hr.csv')"
   ]
  },
  {
   "cell_type": "markdown",
   "metadata": {},
   "source": [
    "#### 48 hour interval"
   ]
  },
  {
   "cell_type": "code",
   "execution_count": 4,
   "metadata": {},
   "outputs": [
    {
     "name": "stdout",
     "output_type": "stream",
     "text": [
      "          Region R_Group R_Subgroup  Season  Month  Day  Hour   TRG1   TRG2  \\\n",
      "0       ERC_PHDL     ERC       PHDL  summer      9  247    10  169.0  119.0   \n",
      "1       ERC_PHDL     ERC       PHDL  summer      9  247    11  168.0  120.0   \n",
      "2       ERC_PHDL     ERC       PHDL  summer      7  204    12  109.0   99.0   \n",
      "3       ERC_PHDL     ERC       PHDL  summer      7  204     9  107.0   98.0   \n",
      "4       ERC_PHDL     ERC       PHDL  summer      7  210    13   68.0   72.0   \n",
      "...          ...     ...        ...     ...    ...  ...   ...    ...    ...   \n",
      "867235  WEC_SDGE     WEC       SDGE  winter     12  356     2  878.0  896.0   \n",
      "867236  WEC_SDGE     WEC       SDGE  winter     12  356     3  878.0  896.0   \n",
      "867237  WEC_SDGE     WEC       SDGE  winter     12  356     4  877.0  895.0   \n",
      "867238  WEC_SDGE     WEC       SDGE  winter     12  356     5  877.0  896.0   \n",
      "867239  WEC_SDGE     WEC       SDGE  winter     12  356     6  877.0  895.0   \n",
      "\n",
      "         TRG3   TRG4   TRG5   TRG6  Hour_Counter  48-hr  48-hr_Load_Tot  \\\n",
      "0       112.0   33.0  139.0  119.0          5914    124         15035.0   \n",
      "1       102.0   49.0  181.0  155.0          5915    124         15035.0   \n",
      "2        81.0   51.0   75.0   57.0          4884    102         14294.0   \n",
      "3        80.0   53.0  200.0  156.0          4881    102         14294.0   \n",
      "4       110.0   55.0  262.0  167.0          5029    105         12665.0   \n",
      "...       ...    ...    ...    ...           ...    ...             ...   \n",
      "867235  897.0  878.0  826.0  752.0          8522    178         31571.0   \n",
      "867236  897.0  878.0  820.0  728.0          8523    178         31571.0   \n",
      "867237  897.0  878.0  820.0  727.0          8524    178         31571.0   \n",
      "867238  897.0  878.0  819.0  713.0          8525    178         31571.0   \n",
      "867239  897.0  878.0  812.0  683.0          8526    178         31571.0   \n",
      "\n",
      "        48-hr_Load_Avg  \n",
      "0           313.229167  \n",
      "1           313.229167  \n",
      "2           297.791667  \n",
      "3           297.791667  \n",
      "4           263.854167  \n",
      "...                ...  \n",
      "867235      657.729167  \n",
      "867236      657.729167  \n",
      "867237      657.729167  \n",
      "867238      657.729167  \n",
      "867239      657.729167  \n",
      "\n",
      "[867240 rows x 17 columns]\n",
      "number of rows in dataset = 867240\n"
     ]
    }
   ],
   "source": [
    "seq_48hr = seq_x.copy()\n",
    "seq_48hr = pd.merge(seq_48hr, seq_intervals, on='Hour_Counter', how='left')\n",
    "seq_48hr = seq_48hr.drop(seq_48hr.columns[0], axis=1)\n",
    "seq_48hr = seq_48hr.drop(columns=['2-hr','4-hr','8-hr','12-hr','24-hr','120-hr'])\n",
    "#print(seq_48hr)\n",
    "\n",
    "#average load based on order of groups\n",
    "aggregations = {x_column:[sum,'mean']}\n",
    "case_48hr = seq_48hr.groupby(['Region','48-hr'],as_index=False).agg(aggregations)\n",
    "case_48hr.columns = case_48hr.columns.droplevel(0)\n",
    "case_48hr.columns = ['Region','48-hr','48-hr_Load_Tot','48-hr_Load_Avg']\n",
    "#print(case_48hr.head())\n",
    "#print('number of rows in dataset =',case_48hr.shape[0])\n",
    "case_48hr.to_csv('../outputs/'+x_name+'_segments_seq_48hr.csv')\n",
    "#print()\n",
    "\n",
    "seq_48hr_2 = pd.merge(seq_48hr,case_48hr,on=['Region','48-hr'],how='left')\n",
    "seq_48hr_2 = seq_48hr_2.sort_values(['Region',x_column]).reset_index(drop=True)\n",
    "print(seq_48hr_2)\n",
    "print('number of rows in dataset =',seq_48hr_2.shape[0])\n",
    "seq_48hr_2.to_csv('../outputs/'+x_name+'_8760_seq_48hr.csv')"
   ]
  },
  {
   "cell_type": "markdown",
   "metadata": {},
   "source": [
    "#### 120 hour interval"
   ]
  },
  {
   "cell_type": "code",
   "execution_count": 5,
   "metadata": {},
   "outputs": [
    {
     "name": "stdout",
     "output_type": "stream",
     "text": [
      "          Region R_Group R_Subgroup  Season  Month  Day  Hour   TRG1   TRG2  \\\n",
      "0       ERC_PHDL     ERC       PHDL  summer      9  247    10  169.0  119.0   \n",
      "1       ERC_PHDL     ERC       PHDL  summer      9  247    11  168.0  120.0   \n",
      "2       ERC_PHDL     ERC       PHDL  summer      7  204    12  109.0   99.0   \n",
      "3       ERC_PHDL     ERC       PHDL  summer      7  204     9  107.0   98.0   \n",
      "4       ERC_PHDL     ERC       PHDL  summer      7  210    13   68.0   72.0   \n",
      "...          ...     ...        ...     ...    ...  ...   ...    ...    ...   \n",
      "867235  WEC_SDGE     WEC       SDGE  winter     12  356     2  878.0  896.0   \n",
      "867236  WEC_SDGE     WEC       SDGE  winter     12  356     3  878.0  896.0   \n",
      "867237  WEC_SDGE     WEC       SDGE  winter     12  356     4  877.0  895.0   \n",
      "867238  WEC_SDGE     WEC       SDGE  winter     12  356     5  877.0  896.0   \n",
      "867239  WEC_SDGE     WEC       SDGE  winter     12  356     6  877.0  895.0   \n",
      "\n",
      "         TRG3   TRG4   TRG5   TRG6  Hour_Counter  120-hr  120-hr_Load_Tot  \\\n",
      "0       112.0   33.0  139.0  119.0          5914      50          47266.0   \n",
      "1       102.0   49.0  181.0  155.0          5915      50          47266.0   \n",
      "2        81.0   51.0   75.0   57.0          4884      41          45010.0   \n",
      "3        80.0   53.0  200.0  156.0          4881      41          45010.0   \n",
      "4       110.0   55.0  262.0  167.0          5029      42          49979.0   \n",
      "...       ...    ...    ...    ...           ...     ...              ...   \n",
      "867235  897.0  878.0  826.0  752.0          8522      72          73287.0   \n",
      "867236  897.0  878.0  820.0  728.0          8523      72          73287.0   \n",
      "867237  897.0  878.0  820.0  727.0          8524      72          73287.0   \n",
      "867238  897.0  878.0  819.0  713.0          8525      72          73287.0   \n",
      "867239  897.0  878.0  812.0  683.0          8526      72          73287.0   \n",
      "\n",
      "        120-hr_Load_Avg  \n",
      "0            393.883333  \n",
      "1            393.883333  \n",
      "2            375.083333  \n",
      "3            375.083333  \n",
      "4            416.491667  \n",
      "...                 ...  \n",
      "867235       610.725000  \n",
      "867236       610.725000  \n",
      "867237       610.725000  \n",
      "867238       610.725000  \n",
      "867239       610.725000  \n",
      "\n",
      "[867240 rows x 17 columns]\n",
      "number of rows in dataset = 867240\n"
     ]
    }
   ],
   "source": [
    "seq_120hr = seq_x.copy()\n",
    "seq_120hr = pd.merge(seq_120hr, seq_intervals, on='Hour_Counter', how='left')\n",
    "seq_120hr = seq_120hr.drop(seq_120hr.columns[0], axis=1)\n",
    "seq_120hr = seq_120hr.drop(columns=['2-hr','4-hr','8-hr','12-hr','24-hr','48-hr'])\n",
    "#print(seq_120hr)\n",
    "\n",
    "#average load based on order of groups\n",
    "aggregations = {x_column:[sum,'mean']}\n",
    "case_120hr = seq_120hr.groupby(['Region','120-hr'],as_index=False).agg(aggregations)\n",
    "case_120hr.columns = case_120hr.columns.droplevel(0)\n",
    "case_120hr.columns = ['Region','120-hr','120-hr_Load_Tot','120-hr_Load_Avg']\n",
    "#print(case_120hr.head())\n",
    "#print('number of rows in dataset =',case_120hr.shape[0])\n",
    "case_120hr.to_csv('../outputs/'+x_name+'_segments_seq_120hr.csv')\n",
    "#print()\n",
    "\n",
    "seq_120hr_2 = pd.merge(seq_120hr,case_120hr,on=['Region','120-hr'],how='left')\n",
    "seq_120hr_2 = seq_120hr_2.sort_values(['Region',x_column]).reset_index(drop=True)\n",
    "print(seq_120hr_2)\n",
    "print('number of rows in dataset =',seq_120hr_2.shape[0])\n",
    "seq_120hr_2.to_csv('../outputs/'+x_name+'_8760_seq_120hr.csv')"
   ]
  },
  {
   "cell_type": "code",
   "execution_count": null,
   "metadata": {},
   "outputs": [],
   "source": []
  }
 ],
 "metadata": {
  "kernelspec": {
   "display_name": "Python 3",
   "language": "python",
   "name": "python3"
  },
  "language_info": {
   "codemirror_mode": {
    "name": "ipython",
    "version": 3
   },
   "file_extension": ".py",
   "mimetype": "text/x-python",
   "name": "python",
   "nbconvert_exporter": "python",
   "pygments_lexer": "ipython3",
   "version": "3.7.6"
  }
 },
 "nbformat": 4,
 "nbformat_minor": 4
}
