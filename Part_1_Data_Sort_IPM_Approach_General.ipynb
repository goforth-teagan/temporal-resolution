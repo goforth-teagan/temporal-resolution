{
 "cells": [
  {
   "cell_type": "markdown",
   "metadata": {},
   "source": [
    "# Data here: \n",
    "## IPM Approach (2 profiles) \n",
    "## Sequential Approach (9 profiles) "
   ]
  },
  {
   "cell_type": "markdown",
   "metadata": {},
   "source": [
    "# Import Long Format 8760 "
   ]
  },
  {
   "cell_type": "code",
   "execution_count": 1,
   "metadata": {
    "scrolled": true
   },
   "outputs": [
    {
     "name": "stdout",
     "output_type": "stream",
     "text": [
      "output files are written out in parent directory: C:\\Users\\tgoforth\\Documents\\IPM temporal resolution project\\outputs\n",
      "output files are written out in parent directory: C:\\Users\\tgoforth\\Documents\\IPM temporal resolution project\\outputs/load\n"
     ]
    }
   ],
   "source": [
    "#importing packages needed for analysis\n",
    "import os\n",
    "import numpy as np\n",
    "import pandas as pd\n",
    "import math\n",
    "from pandas import DataFrame\n",
    "\n",
    "path = os.getcwd()\n",
    "#print(path)\n",
    "\n",
    "load_dur = pd.read_csv('../outputs/load_long_format.csv')\n",
    "solar_dur = pd.read_csv('../outputs/solar_long_format.csv')\n",
    "wind_dur = pd.read_csv('../outputs/wind_long_format.csv')\n",
    "\n",
    "## UNCOMMENT WHICH PROFILE TO BE USED\n",
    "x = load_dur\n",
    "x_name = 'load'\n",
    "x_name2 = 'Load'\n",
    "x_column = 'Load'\n",
    "\n",
    "#x = solar_dur\n",
    "#x_name = 'solar'\n",
    "#x_name2 = 'Solar_Gen'\n",
    "#choose TRG \n",
    "#x_column = 'TRG6'\n",
    "\n",
    "#x = wind_dur\n",
    "#x_name = 'wind'\n",
    "#x_name2 = 'Wind_Gen'\n",
    "#x_column = 'TRG4'\n",
    "\n",
    "#this code creates an output directory in the parent director, if one does not exist yet\n",
    "#Note: this is where all of the output files will be written, since outputs are large this saves space in git\n",
    "path = os.getcwd()\n",
    "parent = os.path.dirname(path)\n",
    "outputs_dir = parent+'\\outputs'\n",
    "if not os.path.exists(outputs_dir):\n",
    "    os.makedirs(outputs_dir)\n",
    "print('output files are written out in parent directory: '+outputs_dir)\n",
    "\n",
    "outputs_x = outputs_dir+'/'+x_name\n",
    "if not os.path.exists(outputs_x):\n",
    "    os.makedirs(outputs_x)\n",
    "print('output files are written out in parent directory: '+outputs_x)\n",
    "\n",
    "#add an hour counter\n",
    "x['Hour_Counter'] = (x['Hour']) + (x['Day'] - 1) * 24\n",
    "x = x.sort_values(by=['Region','Hour_Counter'])\n",
    "unique_hc = pd.Series(x['Hour_Counter'].unique()).dropna()\n",
    "#print(unique_hc.tail(2))\n",
    "\n",
    "#print(x)"
   ]
  },
  {
   "cell_type": "markdown",
   "metadata": {},
   "source": [
    "# Case 1: Normal IPM Approach (72 Representative Hours)\n",
    "### Details: Split into 3 seasons, then 6 groups, then 4 times of day\n",
    "#### Methodology: Use counters to keep track of season split, then use groupby function to find load averages"
   ]
  },
  {
   "cell_type": "code",
   "execution_count": 2,
   "metadata": {
    "scrolled": false
   },
   "outputs": [
    {
     "name": "stdout",
     "output_type": "stream",
     "text": [
      "\n",
      "     Region R_Group R_Subgroup  Season  Month  Day  Hour  Hour_Counter    TOD  \\\n",
      "0  ERC_REST     ERC       REST  winter      1    1     1             1  night   \n",
      "1  ERC_REST     ERC       REST  winter      1    1     2             2  night   \n",
      "\n",
      "    Load  \n",
      "0  34807  \n",
      "1  34551  \n",
      "(551880, 10)\n"
     ]
    }
   ],
   "source": [
    "#Assign the time of day (TOD) categories to hours\n",
    "\n",
    "#Read in the time of day categories\n",
    "tod = pd.read_csv('inputs/time_of_day.csv')\n",
    "#print(tod)\n",
    "\n",
    "#merge the time of data categories to the dataframe\n",
    "x2 = pd.merge(x,tod,on='Hour',how='left')\n",
    "x2 = x2.drop(x2.columns[0], axis=1)\n",
    "x2 = x2[['Region','R_Group','R_Subgroup','Season','Month','Day','Hour','Hour_Counter','TOD',x_column]]\n",
    "print()\n",
    "print(x2.head(2))\n",
    "print(x2.shape)"
   ]
  },
  {
   "cell_type": "code",
   "execution_count": 3,
   "metadata": {},
   "outputs": [
    {
     "name": "stdout",
     "output_type": "stream",
     "text": [
      "   Season  Hour_Counter\n",
      "0  winter             1\n",
      "1  winter             2\n",
      "2  winter             3\n",
      "3  winter             4\n",
      "4  winter             5\n",
      "      Season_Counter\n",
      "8755          8756.0\n",
      "8756          8757.0\n",
      "8757          8758.0\n",
      "8758          8759.0\n",
      "8759          8760.0\n",
      "      Season_Counter  Group  Share   Seasons  Season_Ct\n",
      "0                1.0      1   0.01  shoulder      29.28\n",
      "1                2.0      1   0.01  shoulder      29.28\n",
      "2                3.0      1   0.01  shoulder      29.28\n",
      "3                4.0      1   0.01  shoulder      29.28\n",
      "4                5.0      1   0.01  shoulder      29.28\n",
      "...              ...    ...    ...       ...        ...\n",
      "8755          8756.0      6   0.25    winter     540.00\n",
      "8756          8757.0      6   0.25    winter     540.00\n",
      "8757          8758.0      6   0.25    winter     540.00\n",
      "8758          8759.0      6   0.25    winter     540.00\n",
      "8759          8760.0      6   0.25    winter     540.00\n",
      "\n",
      "[8760 rows x 5 columns]\n"
     ]
    }
   ],
   "source": [
    "#Assign the Group categories to season/hours\n",
    "\n",
    "#Create a list of season to the 8760 hours\n",
    "seasons = x2[x2['Region']==x2['Region'].iloc[0]]\n",
    "seasons = seasons[['Season','Hour_Counter']]\n",
    "print(seasons.head())\n",
    "#print(seasons.shape)\n",
    "\n",
    "#get the number of hours in each season\n",
    "season_count = seasons.groupby('Season',as_index=False).count().rename(columns={'Hour_Counter':'Season_Tot'})\n",
    "season_count = season_count.sort_values('Season')\n",
    "#print(season_count)\n",
    "#print()\n",
    "\n",
    "#read in the group shares data\n",
    "group = pd.read_csv('inputs/group_shares.csv')\n",
    "\n",
    "#combined the group shares data with the season/hours data\n",
    "#NOTE: if there are ever more than three seasons, this code should be updated\n",
    "group[season_count.iloc[0,0]] = group['Share']*season_count.iloc[0,1]\n",
    "group[season_count.iloc[1,0]] = group['Share']*season_count.iloc[1,1]\n",
    "group[season_count.iloc[2,0]] = group['Share']*season_count.iloc[2,1]\n",
    "group_sea = pd.melt(group,id_vars=['Group','Share'],var_name='Seasons',value_name='Season_Ct')\n",
    "group_sea['Season_Counter'] = group_sea['Season_Ct'].cumsum()\n",
    "group_sea['Season_Counter'] = round(group_sea['Season_Counter'])\n",
    "#print(group.dtypes)\n",
    "#print(group)\n",
    "#print(group_sea)\n",
    "#print()\n",
    "\n",
    "#Create a dataframe with 8760 numbers\n",
    "unique_hc = pd.Series(x['Hour_Counter'].unique()).dropna()\n",
    "unique_hc = pd.DataFrame(unique_hc,columns=['Season_Counter'])\n",
    "unique_hc['Season_Counter'] = unique_hc['Season_Counter']*1.0\n",
    "season_8760 = pd.merge_asof(unique_hc, group_sea, on='Season_Counter', direction='forward')\n",
    "print(unique_hc.tail())\n",
    "print(season_8760)\n",
    "#print(season_8760.shape)\n",
    "#print()\n"
   ]
  },
  {
   "cell_type": "code",
   "execution_count": 4,
   "metadata": {
    "scrolled": true
   },
   "outputs": [
    {
     "name": "stdout",
     "output_type": "stream",
     "text": [
      "          Region R_Group R_Subgroup    Season  Month  Day  Hour  Hour_Counter  \\\n",
      "0       ERC_REST     ERC       REST  shoulder     10  278    15          6663   \n",
      "1       ERC_REST     ERC       REST  shoulder     10  278    14          6662   \n",
      "2       ERC_REST     ERC       REST  shoulder     10  278    16          6664   \n",
      "3       ERC_REST     ERC       REST  shoulder     10  291    15          6975   \n",
      "4       ERC_REST     ERC       REST  shoulder     10  290    15          6951   \n",
      "...          ...     ...        ...       ...    ...  ...   ...           ...   \n",
      "551875  WEC_SDGE     WEC       SDGE    winter      1   30     4           700   \n",
      "551876  WEC_SDGE     WEC       SDGE    winter      1   16     4           364   \n",
      "551877  WEC_SDGE     WEC       SDGE    winter      1   17     4           388   \n",
      "551878  WEC_SDGE     WEC       SDGE    winter      2   38     3           891   \n",
      "551879  WEC_SDGE     WEC       SDGE    winter      1   17     3           387   \n",
      "\n",
      "            TOD   Load  Season_Counter  Group  \n",
      "0       middday  57777               1      1  \n",
      "1       middday  57380               2      1  \n",
      "2       middday  56749               3      1  \n",
      "3       middday  56250               4      1  \n",
      "4       middday  56057               5      1  \n",
      "...         ...    ...             ...    ...  \n",
      "551875    night   1712            8756      6  \n",
      "551876    night   1705            8757      6  \n",
      "551877    night   1703            8758      6  \n",
      "551878    night   1703            8759      6  \n",
      "551879    night   1697            8760      6  \n",
      "\n",
      "[551880 rows x 12 columns]\n",
      "\n",
      "          Region R_Group R_Subgroup  Season  Month  Day  Hour  Hour_Counter  \\\n",
      "551878  WEC_SDGE     WEC       SDGE  winter      2   38     3           891   \n",
      "551879  WEC_SDGE     WEC       SDGE  winter      1   17     3           387   \n",
      "\n",
      "          TOD  Load  Season_Counter  Group  \n",
      "551878  night  1703            8759      6  \n",
      "551879  night  1697            8760      6  \n",
      "\n",
      "number of rows in dataset = 551880\n"
     ]
    }
   ],
   "source": [
    "#Assign the load group categories to each of the 8760 hours\n",
    "\n",
    "x2 = x2.sort_values(['Region','Season',x_column], ascending=[True, True, False])\n",
    "x2 = x2.reset_index(drop=True)\n",
    "x2['Season_Counter'] = ( ( x2.index + 8760 ) % 8760 ) + 1\n",
    "x2['Season_Counter'] = x2['Season_Counter'].astype(int)\n",
    "#print(x2.head(2))\n",
    "#print(x2.dtypes)\n",
    "\n",
    "#Merge seasonal group data to the full dataframe\n",
    "x3 = pd.merge(x2,season_8760,on='Season_Counter',how='left')\n",
    "x3 = x3.drop(columns=['Share','Seasons','Season_Ct'])\n",
    "print(x3)\n",
    "print()\n",
    "print(x3.tail(2))\n",
    "print()\n",
    "print('number of rows in dataset =',x3.shape[0])"
   ]
  },
  {
   "cell_type": "code",
   "execution_count": 5,
   "metadata": {},
   "outputs": [
    {
     "name": "stdout",
     "output_type": "stream",
     "text": [
      "     Region    Season  Group      TOD  Hour_Tot      Tot           Avg\n",
      "0  ERC_REST  shoulder      1  evening         2   107834  53917.000000\n",
      "1  ERC_REST  shoulder      1  middday        27  1482630  54912.222222\n",
      "2  ERC_REST  shoulder      2  evening        34  1693417  49806.382353\n",
      "number of rows in dataset = 4169\n",
      "\n",
      "        Region R_Group R_Subgroup    Season  Month  Day  Hour  Hour_Counter  \\\n",
      "2927  ERC_REST     ERC       REST  shoulder      3   86     3          2043   \n",
      "2926  ERC_REST     ERC       REST  shoulder      4   94     2          2234   \n",
      "2925  ERC_REST     ERC       REST  shoulder      3   72     3          1707   \n",
      "\n",
      "        TOD   Load  Season_Counter  Group  Hour_Tot       Tot           Avg  \n",
      "2927  night  26989            2928      6       661  19467771  29451.998487  \n",
      "2926  night  27006            2927      6       661  19467771  29451.998487  \n",
      "2925  night  27025            2926      6       661  19467771  29451.998487  \n",
      "number of rows in dataset = 551880\n"
     ]
    }
   ],
   "source": [
    "x3 = x3.sort_values(['Region','Season','Group','TOD'])\n",
    "\n",
    "aggregations = {x_column:['count',sum,'mean']}\n",
    "norm = x3.groupby(['Region','Season','Group','TOD'],as_index=False).agg(aggregations)\n",
    "norm.columns = norm.columns.droplevel(0)\n",
    "norm.columns = ['Region','Season','Group','TOD','Hour_Tot','Tot','Avg']\n",
    "print(norm.head(3))\n",
    "print('number of rows in dataset =',norm.shape[0])\n",
    "norm.to_csv('../outputs/'+x_name+'/'+x_name+'_segments_norm.csv')\n",
    "print()\n",
    "\n",
    "x4 = pd.merge(x3,norm,on=['Region','Season','Group','TOD'],how='left')\n",
    "x4 = x4.sort_values(['Region',x_column])\n",
    "print(x4.head(3))\n",
    "print('number of rows in dataset =',x4.shape[0])\n",
    "x4.to_csv('../outputs/'+x_name+'/'+x_name+'_8760_norm.csv')\n"
   ]
  },
  {
   "cell_type": "code",
   "execution_count": 28,
   "metadata": {},
   "outputs": [
    {
     "data": {
      "image/png": "[encoded data removed]",
      "text/plain": [
       "<Figure size 432x288 with 1 Axes>"
      ]
     },
     "metadata": {
      "needs_background": "light"
     },
     "output_type": "display_data"
    }
   ],
   "source": [
    "%matplotlib inline\n",
    "import matplotlib.pyplot as plt\n",
    "\n",
    "x4 = x4.sort_values(by=['Region','Season_Counter'])\n",
    "plt.plot(x4[x_column].values)\n",
    "plt.title('IPM modeled load')\n",
    "plt.xlabel('Hours')\n",
    "plt.ylabel(x_name2)\n",
    "\n",
    "x4 = x4.sort_values(by=['Region','Season','Avg'],ascending=[True, True, False])\n",
    "plt.plot(x4['Avg'].values)\n",
    "plt.title(x_name2+' comparison')\n",
    "plt.xlabel('hours')\n",
    "plt.ylabel(x_name2)\n",
    "\n",
    "plt.show()"
   ]
  },
  {
   "cell_type": "code",
   "execution_count": 29,
   "metadata": {},
   "outputs": [
    {
     "data": {
      "image/png": "[encoded data removed]",
      "text/plain": [
       "<Figure size 432x288 with 1 Axes>"
      ]
     },
     "metadata": {
      "needs_background": "light"
     },
     "output_type": "display_data"
    }
   ],
   "source": [
    "fig, axis = plt.subplots()\n",
    "\n",
    "axis.yaxis.grid(True)\n",
    "axis.set_title(x_name2+' comparison')\n",
    "axis.set_xlabel('modeled load')\n",
    "axis.set_ylabel('actual load')\n",
    "\n",
    "X = x4['Avg']/1000\n",
    "Y = x4[x_column]/1000\n",
    "\n",
    "axis.scatter(X, Y)\n",
    "plt.show()"
   ]
  },
  {
   "cell_type": "markdown",
   "metadata": {},
   "source": [
    "# Case 2: Grouping Time of Day before Group\n",
    "### Details: Regions will be split first by season, then time of day, then group\n",
    "#### Methodology: Use same methods & code as norm case, but switch order of groupby for group and time of day"
   ]
  },
  {
   "cell_type": "code",
   "execution_count": 7,
   "metadata": {},
   "outputs": [
    {
     "name": "stdout",
     "output_type": "stream",
     "text": [
      "\n",
      "     Region R_Group R_Subgroup  Season  Month  Day  Hour  Hour_Counter    TOD  \\\n",
      "0  ERC_REST     ERC       REST  winter      1    1     1             1  night   \n",
      "1  ERC_REST     ERC       REST  winter      1    1     2             2  night   \n",
      "\n",
      "    Load  \n",
      "0  34807  \n",
      "1  34551  \n"
     ]
    }
   ],
   "source": [
    "#Assign the time of day (TOD) categories to hours\n",
    "\n",
    "#Read in the time of day categories\n",
    "tod = pd.read_csv('inputs/time_of_day.csv')\n",
    "#print(tod)\n",
    "\n",
    "#merge the time of data categories to the dataframe\n",
    "tod_x = pd.merge(x,tod,on='Hour',how='left')\n",
    "tod_x = tod_x.drop(tod_x.columns[0],axis=1)\n",
    "tod_x = tod_x[['Region','R_Group','R_Subgroup','Season','Month','Day','Hour','Hour_Counter','TOD',x_column]]\n",
    "print()\n",
    "print(tod_x.head(2))\n"
   ]
  },
  {
   "cell_type": "code",
   "execution_count": 8,
   "metadata": {},
   "outputs": [],
   "source": [
    "#Assign the Group categories to season/hours\n",
    "\n",
    "#Create a list of season to the 8760 hours\n",
    "seasons2 = tod_x[tod_x['Region']==tod_x['Region'].iloc[0]]\n",
    "seasons2 = seasons2[['Season','Hour_Counter']]\n",
    "#print(seasons2.head())\n",
    "#print(seasons2.shape)\n",
    "\n",
    "#get the number of hours in each season\n",
    "season2_count = seasons2.groupby('Season',as_index=False).count().rename(columns={'Hour_Counter':'Season_Tot'})\n",
    "season2_count = season2_count.sort_values('Season')\n",
    "#print(season2_count)\n",
    "#print()\n",
    "\n",
    "#read in the group shares data\n",
    "group3 = pd.read_csv('inputs/group_shares.csv')\n",
    "\n",
    "#combined the group shares data with the season/hours data\n",
    "#NOTE: if there are ever more than three seasons, this code should be updated\n",
    "group3[season2_count.iloc[0,0]] = group3['Share']*season2_count.iloc[0,1]\n",
    "group3[season2_count.iloc[1,0]] = group3['Share']*season2_count.iloc[1,1]\n",
    "group3[season2_count.iloc[2,0]] = group3['Share']*season2_count.iloc[2,1]\n",
    "group2_sea = pd.melt(group3,id_vars=['Group','Share'],var_name='Seasons',value_name='Season_Ct')\n",
    "group2_sea['Season_Counter'] = group2_sea['Season_Ct'].cumsum()\n",
    "group2_sea['Season_Counter'] = round(group2_sea['Season_Counter'])\n",
    "#print(group.dtypes)\n",
    "#print(group)\n",
    "#print(group_sea)\n",
    "#print()\n",
    "\n",
    "#Create a dataframe with 8760 numbers\n",
    "unique_hc2 = pd.Series(x['Hour_Counter'].unique()).dropna()\n",
    "unique_hc2 = pd.DataFrame(unique_hc2,columns=['Season_Counter'])\n",
    "unique_hc2['Season_Counter'] = unique_hc2['Season_Counter']*1.0\n",
    "season2_8760 = pd.merge_asof(unique_hc2, group2_sea, on='Season_Counter', direction='forward')\n",
    "#print(unique_hc.tail())\n",
    "#print(season_8760.tail(3))\n",
    "#print(season_8760.shape)\n",
    "#print()"
   ]
  },
  {
   "cell_type": "code",
   "execution_count": 9,
   "metadata": {},
   "outputs": [
    {
     "name": "stdout",
     "output_type": "stream",
     "text": [
      "     Region R_Group R_Subgroup    Season  Month  Day  Hour  Hour_Counter  \\\n",
      "0  ERC_REST     ERC       REST  shoulder     10  278    15          6663   \n",
      "1  ERC_REST     ERC       REST  shoulder     10  278    14          6662   \n",
      "\n",
      "       TOD   Load  Season_Counter  Group  \n",
      "0  middday  57777               1      1  \n",
      "1  middday  57380               2      1  \n",
      "\n",
      "          Region R_Group R_Subgroup  Season  Month  Day  Hour  Hour_Counter  \\\n",
      "551878  WEC_SDGE     WEC       SDGE  winter      2   38     3           891   \n",
      "551879  WEC_SDGE     WEC       SDGE  winter      1   17     3           387   \n",
      "\n",
      "          TOD  Load  Season_Counter  Group  \n",
      "551878  night  1703            8759      6  \n",
      "551879  night  1697            8760      6  \n",
      "\n",
      "number of rows in dataset = 551880\n"
     ]
    }
   ],
   "source": [
    "#Assign the load group categories to each of the 8760 hours\n",
    "\n",
    "#Create the seasonal counter in the load dataset to merge with\n",
    "tod_x = tod_x.sort_values(['Region','Season',x_column], ascending=[True, True, False])\n",
    "tod_x = tod_x.reset_index(drop=True)\n",
    "tod_x['Season_Counter'] = ( ( tod_x.index + 8760 ) % 8760 ) + 1\n",
    "tod_x['Season_Counter'] = tod_x['Season_Counter'].astype(int)\n",
    "#print(tod_x.head(2))\n",
    "#print(tod_x.dtypes)\n",
    "\n",
    "#Merge seasonal group data to the full dataframe\n",
    "tod_x_2 = pd.merge(tod_x,season2_8760,on='Season_Counter',how='left')\n",
    "tod_x_2 = tod_x_2.drop(columns=['Share','Seasons','Season_Ct'])\n",
    "print(tod_x_2.head(2))\n",
    "print()\n",
    "print(tod_x_2.tail(2))\n",
    "print()\n",
    "print('number of rows in dataset =',tod_x_2.shape[0])"
   ]
  },
  {
   "cell_type": "code",
   "execution_count": 10,
   "metadata": {},
   "outputs": [
    {
     "name": "stdout",
     "output_type": "stream",
     "text": [
      "     Region    Season      TOD  Group  Hour_Tot      Tot           Avg\n",
      "0  ERC_REST  shoulder  evening      1         2   107834  53917.000000\n",
      "1  ERC_REST  shoulder  evening      2        34  1693417  49806.382353\n",
      "2  ERC_REST  shoulder  evening      3        76  3345487  44019.565789\n",
      "number of rows in dataset = 4169\n",
      "\n",
      "        Region R_Group R_Subgroup    Season  Month  Day  Hour  Hour_Counter  \\\n",
      "2927  ERC_REST     ERC       REST  shoulder      3   86     3          2043   \n",
      "2926  ERC_REST     ERC       REST  shoulder      4   94     2          2234   \n",
      "2925  ERC_REST     ERC       REST  shoulder      3   72     3          1707   \n",
      "\n",
      "        TOD   Load  Season_Counter  Group  Hour_Tot       Tot           Avg  \n",
      "2927  night  26989            2928      6       661  19467771  29451.998487  \n",
      "2926  night  27006            2927      6       661  19467771  29451.998487  \n",
      "2925  night  27025            2926      6       661  19467771  29451.998487  \n",
      "number of rows in dataset = 551880\n"
     ]
    }
   ],
   "source": [
    "tod_x_2 = tod_x_2.sort_values(['Region','Season','TOD','Group'])\n",
    "\n",
    "aggregations = {x_column:['count',sum,'mean']}\n",
    "case2 = tod_x_2.groupby(['Region','Season','TOD','Group'],as_index=False).agg(aggregations)\n",
    "case2.columns = case2.columns.droplevel(0)\n",
    "case2.columns = ['Region','Season','TOD','Group','Hour_Tot','Tot','Avg']\n",
    "print(case2.head(3))\n",
    "print('number of rows in dataset =',case2.shape[0])\n",
    "case2.to_csv('../outputs/'+x_name+'/'+x_name+'_segments_timeofday.csv')\n",
    "print()\n",
    "\n",
    "tod_x_3 = pd.merge(tod_x_2,case2,on=['Region','Season','TOD','Group'],how='left')\n",
    "tod_x_3 = tod_x_3.sort_values(['Region',x_column])\n",
    "print(tod_x_3.head(3))\n",
    "print('number of rows in dataset =',tod_x_3.shape[0])\n",
    "tod_x_3.to_csv('../outputs/'+x_name+'/'+x_name+'_8760_timeofday.csv')\n"
   ]
  },
  {
   "cell_type": "markdown",
   "metadata": {},
   "source": [
    "### Plot of a single region"
   ]
  },
  {
   "cell_type": "code",
   "execution_count": null,
   "metadata": {},
   "outputs": [],
   "source": [
    "#plot when testing a single region \n",
    "%matplotlib inline\n",
    "import matplotlib.pyplot as plt\n",
    "\n",
    "tod_x_3 = tod_x_3.sort_values(by=['Region','Season_Counter'])\n",
    "plt.plot(tod_x_3[x_column].values)\n",
    "plt.title('IPM modeled load')\n",
    "plt.xlabel('Hours')\n",
    "plt.ylabel(x_name2)\n",
    "\n",
    "tod_x_3 = tod_x_3.sort_values(by=['Region','Season','Avg'],ascending=[True, True, False])\n",
    "plt.plot(tod_x_3['Avg'].values)\n",
    "plt.title(x_name2+' comparison')\n",
    "plt.xlabel('hours')\n",
    "plt.ylabel(x_column)\n",
    "\n",
    "plt.show()"
   ]
  },
  {
   "cell_type": "markdown",
   "metadata": {},
   "source": [
    "# Sequential Approach \n",
    "### Details: Split into different hour intervals (1, 2, 4, 8, 12, 24, 48, 120, 8760) to test the accuracy of the load estimations\n",
    "#### Methodology: use a single csv numbered from 1 to 8760 to identify the groups that each hour will go in "
   ]
  },
  {
   "cell_type": "code",
   "execution_count": 11,
   "metadata": {},
   "outputs": [],
   "source": [
    "#load useful info into notebook\n",
    "seq_x = x.copy()\n",
    "seq_intervals = pd.read_csv('inputs/sequential_hours.csv')"
   ]
  },
  {
   "cell_type": "markdown",
   "metadata": {},
   "source": [
    "#### 2 hour interval"
   ]
  },
  {
   "cell_type": "code",
   "execution_count": 12,
   "metadata": {},
   "outputs": [
    {
     "name": "stdout",
     "output_type": "stream",
     "text": [
      "          Region R_Group R_Subgroup    Season  Month  Day  Hour   Load  \\\n",
      "0       ERC_REST     ERC       REST  shoulder      3   86     3  26989   \n",
      "1       ERC_REST     ERC       REST  shoulder      4   94     2  27006   \n",
      "2       ERC_REST     ERC       REST  shoulder      3   72     3  27025   \n",
      "3       ERC_REST     ERC       REST  shoulder      3   65     3  27059   \n",
      "4       ERC_REST     ERC       REST  shoulder      3   65     2  27069   \n",
      "...          ...     ...        ...       ...    ...  ...   ...    ...   \n",
      "551875  WEC_SDGE     WEC       SDGE    summer      9  249    17   4434   \n",
      "551876  WEC_SDGE     WEC       SDGE    summer      9  250    14   4446   \n",
      "551877  WEC_SDGE     WEC       SDGE    summer      9  250    17   4465   \n",
      "551878  WEC_SDGE     WEC       SDGE    summer      9  250    15   4470   \n",
      "551879  WEC_SDGE     WEC       SDGE    summer      9  250    16   4479   \n",
      "\n",
      "        Hour_Counter  2-hr  Hour_Tot    Tot      Avg  \n",
      "0               2043  1022         2  54260  27130.0  \n",
      "1               2234  1117         2  54076  27038.0  \n",
      "2               1707   854         2  54225  27112.5  \n",
      "3               1539   770         2  54519  27259.5  \n",
      "4               1538   769         2  54429  27214.5  \n",
      "...              ...   ...       ...    ...      ...  \n",
      "551875          5969  2985         2   8817   4408.5  \n",
      "551876          5990  2995         2   8750   4375.0  \n",
      "551877          5993  2997         2   8825   4412.5  \n",
      "551878          5991  2996         2   8949   4474.5  \n",
      "551879          5992  2996         2   8949   4474.5  \n",
      "\n",
      "[551880 rows x 13 columns]\n",
      "number of rows in dataset = 551880\n"
     ]
    }
   ],
   "source": [
    "#start with 2 hour interval\n",
    "seq_2hr = seq_x.copy()\n",
    "seq_2hr = pd.merge(seq_2hr, seq_intervals, on='Hour_Counter', how='left')\n",
    "seq_2hr = seq_2hr.drop(seq_2hr.columns[0], axis=1)\n",
    "seq_2hr = seq_2hr.drop(columns=['4-hr','8-hr','12-hr','24-hr','48-hr','120-hr'])\n",
    "#print(seq_2hr)\n",
    "\n",
    "#average load based on order of groups\n",
    "aggregations = {x_column:['count',sum,'mean']}\n",
    "case_2hr = seq_2hr.groupby(['Region','2-hr'],as_index=False).agg(aggregations)\n",
    "case_2hr.columns = case_2hr.columns.droplevel(0)\n",
    "case_2hr.columns = ['Region','2-hr','Hour_Tot','Tot','Avg']\n",
    "#print(case_2hr.head())\n",
    "#print('number of rows in dataset =',case_2hr.shape[0])\n",
    "case_2hr.to_csv('../outputs/'+x_name+'/'+x_name+'_segments_seq_2hr.csv')\n",
    "#print()\n",
    "\n",
    "seq_2hr_2 = pd.merge(seq_2hr,case_2hr,on=['Region','2-hr'],how='left')\n",
    "seq_2hr_2 = seq_2hr_2.sort_values(['Region',x_column]).reset_index(drop=True)\n",
    "print(seq_2hr_2)\n",
    "print('number of rows in dataset =',seq_2hr_2.shape[0])\n",
    "seq_2hr_2.to_csv('../outputs/'+x_name+'/'+x_name+'_8760_seq_2hr.csv')"
   ]
  },
  {
   "cell_type": "markdown",
   "metadata": {},
   "source": [
    "#### 4 hour interval"
   ]
  },
  {
   "cell_type": "code",
   "execution_count": 13,
   "metadata": {},
   "outputs": [
    {
     "name": "stdout",
     "output_type": "stream",
     "text": [
      "          Region R_Group R_Subgroup    Season  Month  Day  Hour   Load  \\\n",
      "0       ERC_REST     ERC       REST  shoulder      3   86     3  26989   \n",
      "1       ERC_REST     ERC       REST  shoulder      4   94     2  27006   \n",
      "2       ERC_REST     ERC       REST  shoulder      3   72     3  27025   \n",
      "3       ERC_REST     ERC       REST  shoulder      3   65     3  27059   \n",
      "4       ERC_REST     ERC       REST  shoulder      3   65     2  27069   \n",
      "...          ...     ...        ...       ...    ...  ...   ...    ...   \n",
      "551875  WEC_SDGE     WEC       SDGE    summer      9  249    17   4434   \n",
      "551876  WEC_SDGE     WEC       SDGE    summer      9  250    14   4446   \n",
      "551877  WEC_SDGE     WEC       SDGE    summer      9  250    17   4465   \n",
      "551878  WEC_SDGE     WEC       SDGE    summer      9  250    15   4470   \n",
      "551879  WEC_SDGE     WEC       SDGE    summer      9  250    16   4479   \n",
      "\n",
      "        Hour_Counter  4-hr  Hour_Tot     Tot       Avg  \n",
      "0               2043   511         4  108862  27215.50  \n",
      "1               2234   559         4  111068  27767.00  \n",
      "2               1707   427         4  109231  27307.75  \n",
      "3               1539   385         4  108948  27237.00  \n",
      "4               1538   385         4  108948  27237.00  \n",
      "...              ...   ...       ...     ...       ...  \n",
      "551875          5969  1493         4   17191   4297.75  \n",
      "551876          5990  1498         4   17699   4424.75  \n",
      "551877          5993  1499         4   17222   4305.50  \n",
      "551878          5991  1498         4   17699   4424.75  \n",
      "551879          5992  1498         4   17699   4424.75  \n",
      "\n",
      "[551880 rows x 13 columns]\n",
      "number of rows in dataset = 551880\n"
     ]
    }
   ],
   "source": [
    "seq_4hr = seq_x.copy()\n",
    "seq_4hr = pd.merge(seq_4hr, seq_intervals, on='Hour_Counter', how='left')\n",
    "seq_4hr = seq_4hr.drop(seq_4hr.columns[0], axis=1)\n",
    "seq_4hr = seq_4hr.drop(columns=['2-hr','8-hr','12-hr','24-hr','48-hr','120-hr'])\n",
    "#print(seq_4hr)\n",
    "\n",
    "#average load based on order of groups\n",
    "aggregations = {x_column:['count',sum,'mean']}\n",
    "case_4hr = seq_4hr.groupby(['Region','4-hr'],as_index=False).agg(aggregations)\n",
    "case_4hr.columns = case_4hr.columns.droplevel(0)\n",
    "case_4hr.columns = ['Region','4-hr','Hour_Tot','Tot','Avg']\n",
    "#print(case_4hr.head())\n",
    "#print('number of rows in dataset =',case_4hr.shape[0])\n",
    "case_4hr.to_csv('../outputs/'+x_name+'/'+x_name+'_segments_seq_4hr.csv')\n",
    "#print()\n",
    "\n",
    "seq_4hr_2 = pd.merge(seq_4hr,case_4hr,on=['Region','4-hr'],how='left')\n",
    "seq_4hr_2 = seq_4hr_2.sort_values(['Region',x_column]).reset_index(drop=True)\n",
    "print(seq_4hr_2)\n",
    "print('number of rows in dataset =',seq_4hr_2.shape[0])\n",
    "seq_4hr_2.to_csv('../outputs/'+x_name+'/'+x_name+'_8760_seq_4hr.csv')"
   ]
  },
  {
   "cell_type": "markdown",
   "metadata": {},
   "source": [
    "#### 8 hour interval"
   ]
  },
  {
   "cell_type": "code",
   "execution_count": 14,
   "metadata": {},
   "outputs": [
    {
     "name": "stdout",
     "output_type": "stream",
     "text": [
      "          Region R_Group R_Subgroup    Season  Month  Day  Hour   Load  \\\n",
      "0       ERC_REST     ERC       REST  shoulder      3   86     3  26989   \n",
      "1       ERC_REST     ERC       REST  shoulder      4   94     2  27006   \n",
      "2       ERC_REST     ERC       REST  shoulder      3   72     3  27025   \n",
      "3       ERC_REST     ERC       REST  shoulder      3   65     3  27059   \n",
      "4       ERC_REST     ERC       REST  shoulder      3   65     2  27069   \n",
      "...          ...     ...        ...       ...    ...  ...   ...    ...   \n",
      "551875  WEC_SDGE     WEC       SDGE    summer      9  249    17   4434   \n",
      "551876  WEC_SDGE     WEC       SDGE    summer      9  250    14   4446   \n",
      "551877  WEC_SDGE     WEC       SDGE    summer      9  250    17   4465   \n",
      "551878  WEC_SDGE     WEC       SDGE    summer      9  250    15   4470   \n",
      "551879  WEC_SDGE     WEC       SDGE    summer      9  250    16   4479   \n",
      "\n",
      "        Hour_Counter  8-hr  Hour_Tot     Tot        Avg  \n",
      "0               2043   256         8  227259  28407.375  \n",
      "1               2234   280         8  245917  30739.625  \n",
      "2               1707   214         8  225022  28127.750  \n",
      "3               1539   193         8  227812  28476.500  \n",
      "4               1538   193         8  227812  28476.500  \n",
      "...              ...   ...       ...     ...        ...  \n",
      "551875          5969   747         8   30851   3856.375  \n",
      "551876          5990   749         8   32436   4054.500  \n",
      "551877          5993   750         8   31102   3887.750  \n",
      "551878          5991   749         8   32436   4054.500  \n",
      "551879          5992   749         8   32436   4054.500  \n",
      "\n",
      "[551880 rows x 13 columns]\n",
      "number of rows in dataset = 551880\n"
     ]
    }
   ],
   "source": [
    "seq_8hr = seq_x.copy()\n",
    "seq_8hr = pd.merge(seq_8hr, seq_intervals, on='Hour_Counter', how='left')\n",
    "seq_8hr = seq_8hr.drop(seq_8hr.columns[0], axis=1)\n",
    "seq_8hr = seq_8hr.drop(columns=['2-hr','4-hr','12-hr','24-hr','48-hr','120-hr'])\n",
    "#print(seq_8hr)\n",
    "\n",
    "#average based on order of groups\n",
    "aggregations = {x_column:['count',sum,'mean']}\n",
    "case_8hr = seq_8hr.groupby(['Region','8-hr'],as_index=False).agg(aggregations)\n",
    "case_8hr.columns = case_8hr.columns.droplevel(0)\n",
    "case_8hr.columns = ['Region','8-hr','Hour_Tot','Tot','Avg']\n",
    "#print(case_8hr.head())\n",
    "#print('number of rows in dataset =',case_8hr.shape[0])\n",
    "case_8hr.to_csv('../outputs/'+x_name+'/'+x_name+'_segments_seq_8hr.csv')\n",
    "#print()\n",
    "\n",
    "seq_8hr_2 = pd.merge(seq_8hr,case_8hr,on=['Region','8-hr'],how='left')\n",
    "seq_8hr_2 = seq_8hr_2.sort_values(['Region',x_column]).reset_index(drop=True)\n",
    "print(seq_8hr_2)\n",
    "print('number of rows in dataset =',seq_8hr_2.shape[0])\n",
    "seq_8hr_2.to_csv('../outputs/'+x_name+'/'+x_name+'_8760_seq_8hr.csv')"
   ]
  },
  {
   "cell_type": "markdown",
   "metadata": {},
   "source": [
    "#### 12 hour interval"
   ]
  },
  {
   "cell_type": "code",
   "execution_count": 15,
   "metadata": {},
   "outputs": [
    {
     "name": "stdout",
     "output_type": "stream",
     "text": [
      "          Region R_Group R_Subgroup    Season  Month  Day  Hour   Load  \\\n",
      "0       ERC_REST     ERC       REST  shoulder      3   86     3  26989   \n",
      "1       ERC_REST     ERC       REST  shoulder      4   94     2  27006   \n",
      "2       ERC_REST     ERC       REST  shoulder      3   72     3  27025   \n",
      "3       ERC_REST     ERC       REST  shoulder      3   65     3  27059   \n",
      "4       ERC_REST     ERC       REST  shoulder      3   65     2  27069   \n",
      "...          ...     ...        ...       ...    ...  ...   ...    ...   \n",
      "551875  WEC_SDGE     WEC       SDGE    summer      9  249    17   4434   \n",
      "551876  WEC_SDGE     WEC       SDGE    summer      9  250    14   4446   \n",
      "551877  WEC_SDGE     WEC       SDGE    summer      9  250    17   4465   \n",
      "551878  WEC_SDGE     WEC       SDGE    summer      9  250    15   4470   \n",
      "551879  WEC_SDGE     WEC       SDGE    summer      9  250    16   4479   \n",
      "\n",
      "        Hour_Counter  12-hr  Hour_Tot     Tot           Avg  \n",
      "0               2043    171        12  358408  29867.333333  \n",
      "1               2234    187        12  388932  32411.000000  \n",
      "2               1707    143        12  357054  29754.500000  \n",
      "3               1539    129        12  359432  29952.666667  \n",
      "4               1538    129        12  359432  29952.666667  \n",
      "...              ...    ...       ...     ...           ...  \n",
      "551875          5969    498        12   46925   3910.416667  \n",
      "551876          5990    500        12   48801   4066.750000  \n",
      "551877          5993    500        12   48801   4066.750000  \n",
      "551878          5991    500        12   48801   4066.750000  \n",
      "551879          5992    500        12   48801   4066.750000  \n",
      "\n",
      "[551880 rows x 13 columns]\n",
      "number of rows in dataset = 551880\n"
     ]
    }
   ],
   "source": [
    "seq_12hr = seq_x.copy()\n",
    "seq_12hr = pd.merge(seq_12hr, seq_intervals, on='Hour_Counter', how='left')\n",
    "seq_12hr = seq_12hr.drop(seq_12hr.columns[0], axis=1)\n",
    "seq_12hr = seq_12hr.drop(columns=['2-hr','4-hr','8-hr','24-hr','48-hr','120-hr'])\n",
    "#print(seq_12hr)\n",
    "\n",
    "#average based on order of groups\n",
    "aggregations = {x_column:['count',sum,'mean']}\n",
    "case_12hr = seq_12hr.groupby(['Region','12-hr'],as_index=False).agg(aggregations)\n",
    "case_12hr.columns = case_12hr.columns.droplevel(0)\n",
    "case_12hr.columns = ['Region','12-hr','Hour_Tot','Tot','Avg']\n",
    "#print(case_12hr.head())\n",
    "#print('number of rows in dataset =',case_12hr.shape[0])\n",
    "case_12hr.to_csv('../outputs/'+x_name+'/'+x_name+'_segments_seq_12hr.csv')\n",
    "#print()\n",
    "\n",
    "seq_12hr_2 = pd.merge(seq_12hr,case_12hr,on=['Region','12-hr'],how='left')\n",
    "seq_12hr_2 = seq_12hr_2.sort_values(['Region',x_column]).reset_index(drop=True)\n",
    "print(seq_12hr_2)\n",
    "print('number of rows in dataset =',seq_12hr_2.shape[0])\n",
    "seq_12hr_2.to_csv('../outputs/'+x_name+'/'+x_name+'_8760_seq_12hr.csv')"
   ]
  },
  {
   "cell_type": "markdown",
   "metadata": {},
   "source": [
    "#### 24 hour interval"
   ]
  },
  {
   "cell_type": "code",
   "execution_count": 16,
   "metadata": {},
   "outputs": [
    {
     "name": "stdout",
     "output_type": "stream",
     "text": [
      "          Region R_Group R_Subgroup    Season  Month  Day  Hour   Load  \\\n",
      "0       ERC_REST     ERC       REST  shoulder      3   86     3  26989   \n",
      "1       ERC_REST     ERC       REST  shoulder      4   94     2  27006   \n",
      "2       ERC_REST     ERC       REST  shoulder      3   72     3  27025   \n",
      "3       ERC_REST     ERC       REST  shoulder      3   65     3  27059   \n",
      "4       ERC_REST     ERC       REST  shoulder      3   65     2  27069   \n",
      "...          ...     ...        ...       ...    ...  ...   ...    ...   \n",
      "551875  WEC_SDGE     WEC       SDGE    summer      9  249    17   4434   \n",
      "551876  WEC_SDGE     WEC       SDGE    summer      9  250    14   4446   \n",
      "551877  WEC_SDGE     WEC       SDGE    summer      9  250    17   4465   \n",
      "551878  WEC_SDGE     WEC       SDGE    summer      9  250    15   4470   \n",
      "551879  WEC_SDGE     WEC       SDGE    summer      9  250    16   4479   \n",
      "\n",
      "        Hour_Counter  24-hr  Hour_Tot     Tot           Avg  \n",
      "0               2043     86        24  748721  31196.708333  \n",
      "1               2234     94        24  831174  34632.250000  \n",
      "2               1707     72        24  771304  32137.666667  \n",
      "3               1539     65        24  758264  31594.333333  \n",
      "4               1538     65        24  758264  31594.333333  \n",
      "...              ...    ...       ...     ...           ...  \n",
      "551875          5969    249        24   76796   3199.833333  \n",
      "551876          5990    250        24   82552   3439.666667  \n",
      "551877          5993    250        24   82552   3439.666667  \n",
      "551878          5991    250        24   82552   3439.666667  \n",
      "551879          5992    250        24   82552   3439.666667  \n",
      "\n",
      "[551880 rows x 13 columns]\n",
      "number of rows in dataset = 551880\n"
     ]
    }
   ],
   "source": [
    "seq_24hr = seq_x.copy()\n",
    "seq_24hr = pd.merge(seq_24hr, seq_intervals, on='Hour_Counter', how='left')\n",
    "seq_24hr = seq_24hr.drop(seq_24hr.columns[0], axis=1)\n",
    "seq_24hr = seq_24hr.drop(columns=['2-hr','4-hr','8-hr','12-hr','48-hr','120-hr'])\n",
    "#print(seq_24hr)\n",
    "\n",
    "#average based on order of groups\n",
    "aggregations = {x_column:['count',sum,'mean']}\n",
    "case_24hr = seq_24hr.groupby(['Region','24-hr'],as_index=False).agg(aggregations)\n",
    "case_24hr.columns = case_24hr.columns.droplevel(0)\n",
    "case_24hr.columns = ['Region','24-hr','Hour_Tot','Tot','Avg']\n",
    "#print(case_24hr.head())\n",
    "#print('number of rows in dataset =',case_24hr.shape[0])\n",
    "case_24hr.to_csv('../outputs/'+x_name+'/'+x_name+'_segments_seq_24hr.csv')\n",
    "#print()\n",
    "\n",
    "seq_24hr_2 = pd.merge(seq_24hr,case_24hr,on=['Region','24-hr'],how='left')\n",
    "seq_24hr_2 = seq_24hr_2.sort_values(['Region',x_column]).reset_index(drop=True)\n",
    "print(seq_24hr_2)\n",
    "print('number of rows in dataset =',seq_24hr_2.shape[0])\n",
    "seq_24hr_2.to_csv('../outputs/'+x_name+'/'+x_name+'_8760_seq_24hr.csv')"
   ]
  },
  {
   "cell_type": "markdown",
   "metadata": {},
   "source": [
    "#### 48 hour interval"
   ]
  },
  {
   "cell_type": "code",
   "execution_count": 17,
   "metadata": {},
   "outputs": [
    {
     "name": "stdout",
     "output_type": "stream",
     "text": [
      "          Region R_Group R_Subgroup    Season  Month  Day  Hour   Load  \\\n",
      "0       ERC_REST     ERC       REST  shoulder      3   86     3  26989   \n",
      "1       ERC_REST     ERC       REST  shoulder      4   94     2  27006   \n",
      "2       ERC_REST     ERC       REST  shoulder      3   72     3  27025   \n",
      "3       ERC_REST     ERC       REST  shoulder      3   65     3  27059   \n",
      "4       ERC_REST     ERC       REST  shoulder      3   65     2  27069   \n",
      "...          ...     ...        ...       ...    ...  ...   ...    ...   \n",
      "551875  WEC_SDGE     WEC       SDGE    summer      9  249    17   4434   \n",
      "551876  WEC_SDGE     WEC       SDGE    summer      9  250    14   4446   \n",
      "551877  WEC_SDGE     WEC       SDGE    summer      9  250    17   4465   \n",
      "551878  WEC_SDGE     WEC       SDGE    summer      9  250    15   4470   \n",
      "551879  WEC_SDGE     WEC       SDGE    summer      9  250    16   4479   \n",
      "\n",
      "        Hour_Counter  48-hr  Hour_Tot      Tot           Avg  \n",
      "0               2043     43        48  1506106  31377.208333  \n",
      "1               2234     47        48  1588883  33101.729167  \n",
      "2               1707     36        48  1532197  31920.770833  \n",
      "3               1539     33        48  1579670  32909.791667  \n",
      "4               1538     33        48  1579670  32909.791667  \n",
      "...              ...    ...       ...      ...           ...  \n",
      "551875          5969    125        48   159348   3319.750000  \n",
      "551876          5990    125        48   159348   3319.750000  \n",
      "551877          5993    125        48   159348   3319.750000  \n",
      "551878          5991    125        48   159348   3319.750000  \n",
      "551879          5992    125        48   159348   3319.750000  \n",
      "\n",
      "[551880 rows x 13 columns]\n",
      "number of rows in dataset = 551880\n"
     ]
    }
   ],
   "source": [
    "seq_48hr = seq_x.copy()\n",
    "seq_48hr = pd.merge(seq_48hr, seq_intervals, on='Hour_Counter', how='left')\n",
    "seq_48hr = seq_48hr.drop(seq_48hr.columns[0], axis=1)\n",
    "seq_48hr = seq_48hr.drop(columns=['2-hr','4-hr','8-hr','12-hr','24-hr','120-hr'])\n",
    "#print(seq_48hr)\n",
    "\n",
    "#average load based on order of groups\n",
    "aggregations = {x_column:['count',sum,'mean']}\n",
    "case_48hr = seq_48hr.groupby(['Region','48-hr'],as_index=False).agg(aggregations)\n",
    "case_48hr.columns = case_48hr.columns.droplevel(0)\n",
    "case_48hr.columns = ['Region','48-hr','Hour_Tot','Tot','Avg']\n",
    "#print(case_48hr.head())\n",
    "#print('number of rows in dataset =',case_48hr.shape[0])\n",
    "case_48hr.to_csv('../outputs/'+x_name+'/'+x_name+'_segments_seq_48hr.csv')\n",
    "#print()\n",
    "\n",
    "seq_48hr_2 = pd.merge(seq_48hr,case_48hr,on=['Region','48-hr'],how='left')\n",
    "seq_48hr_2 = seq_48hr_2.sort_values(['Region',x_column]).reset_index(drop=True)\n",
    "print(seq_48hr_2)\n",
    "print('number of rows in dataset =',seq_48hr_2.shape[0])\n",
    "seq_48hr_2.to_csv('../outputs/'+x_name+'/'+x_name+'_8760_seq_48hr.csv')"
   ]
  },
  {
   "cell_type": "markdown",
   "metadata": {},
   "source": [
    "#### 120 hour interval"
   ]
  },
  {
   "cell_type": "code",
   "execution_count": 18,
   "metadata": {},
   "outputs": [
    {
     "name": "stdout",
     "output_type": "stream",
     "text": [
      "          Region R_Group R_Subgroup    Season  Month  Day  Hour   Load  \\\n",
      "0       ERC_REST     ERC       REST  shoulder      3   86     3  26989   \n",
      "1       ERC_REST     ERC       REST  shoulder      4   94     2  27006   \n",
      "2       ERC_REST     ERC       REST  shoulder      3   72     3  27025   \n",
      "3       ERC_REST     ERC       REST  shoulder      3   65     3  27059   \n",
      "4       ERC_REST     ERC       REST  shoulder      3   65     2  27069   \n",
      "...          ...     ...        ...       ...    ...  ...   ...    ...   \n",
      "551875  WEC_SDGE     WEC       SDGE    summer      9  249    17   4434   \n",
      "551876  WEC_SDGE     WEC       SDGE    summer      9  250    14   4446   \n",
      "551877  WEC_SDGE     WEC       SDGE    summer      9  250    17   4465   \n",
      "551878  WEC_SDGE     WEC       SDGE    summer      9  250    15   4470   \n",
      "551879  WEC_SDGE     WEC       SDGE    summer      9  250    16   4479   \n",
      "\n",
      "        Hour_Counter  120-hr  Hour_Tot      Tot           Avg  \n",
      "0               2043      18       120  4122052  34350.433333  \n",
      "1               2234      19       120  3978846  33157.050000  \n",
      "2               1707      15       120  4098759  34156.325000  \n",
      "3               1539      13       120  3967672  33063.933333  \n",
      "4               1538      13       120  3967672  33063.933333  \n",
      "...              ...     ...       ...      ...           ...  \n",
      "551875          5969      50       120   332316   2769.300000  \n",
      "551876          5990      50       120   332316   2769.300000  \n",
      "551877          5993      50       120   332316   2769.300000  \n",
      "551878          5991      50       120   332316   2769.300000  \n",
      "551879          5992      50       120   332316   2769.300000  \n",
      "\n",
      "[551880 rows x 13 columns]\n",
      "number of rows in dataset = 551880\n"
     ]
    }
   ],
   "source": [
    "seq_120hr = seq_x.copy()\n",
    "seq_120hr = pd.merge(seq_120hr, seq_intervals, on='Hour_Counter', how='left')\n",
    "seq_120hr = seq_120hr.drop(seq_120hr.columns[0], axis=1)\n",
    "seq_120hr = seq_120hr.drop(columns=['2-hr','4-hr','8-hr','12-hr','24-hr','48-hr'])\n",
    "#print(seq_120hr)\n",
    "\n",
    "#average load based on order of groups\n",
    "aggregations = {x_column:['count',sum,'mean']}\n",
    "case_120hr = seq_120hr.groupby(['Region','120-hr'],as_index=False).agg(aggregations)\n",
    "case_120hr.columns = case_120hr.columns.droplevel(0)\n",
    "case_120hr.columns = ['Region','120-hr','Hour_Tot','Tot','Avg']\n",
    "#print(case_120hr.head())\n",
    "#print('number of rows in dataset =',case_120hr.shape[0])\n",
    "case_120hr.to_csv('../outputs/'+x_name+'/'+x_name+'_segments_seq_120hr.csv')\n",
    "#print()\n",
    "\n",
    "seq_120hr_2 = pd.merge(seq_120hr,case_120hr,on=['Region','120-hr'],how='left')\n",
    "seq_120hr_2 = seq_120hr_2.sort_values(['Region',x_column]).reset_index(drop=True)\n",
    "print(seq_120hr_2)\n",
    "print('number of rows in dataset =',seq_120hr_2.shape[0])\n",
    "seq_120hr_2.to_csv('../outputs/'+x_name+'/'+x_name+'_8760_seq_120hr.csv')"
   ]
  },
  {
   "cell_type": "markdown",
   "metadata": {},
   "source": [
    "# Binding Cases"
   ]
  },
  {
   "cell_type": "markdown",
   "metadata": {},
   "source": [
    "#### 8760 hr interval binding case"
   ]
  },
  {
   "cell_type": "code",
   "execution_count": 32,
   "metadata": {},
   "outputs": [
    {
     "name": "stdout",
     "output_type": "stream",
     "text": [
      "          Region R_Group R_Subgroup    Season  Month  Day  Hour   Load  \\\n",
      "0       ERC_REST     ERC       REST  shoulder      3   86     3  26989   \n",
      "1       ERC_REST     ERC       REST  shoulder      4   94     2  27006   \n",
      "2       ERC_REST     ERC       REST  shoulder      3   72     3  27025   \n",
      "3       ERC_REST     ERC       REST  shoulder      3   65     3  27059   \n",
      "4       ERC_REST     ERC       REST  shoulder      3   65     2  27069   \n",
      "...          ...     ...        ...       ...    ...  ...   ...    ...   \n",
      "551875  WEC_SDGE     WEC       SDGE    summer      9  249    17   4434   \n",
      "551876  WEC_SDGE     WEC       SDGE    summer      9  250    14   4446   \n",
      "551877  WEC_SDGE     WEC       SDGE    summer      9  250    17   4465   \n",
      "551878  WEC_SDGE     WEC       SDGE    summer      9  250    15   4470   \n",
      "551879  WEC_SDGE     WEC       SDGE    summer      9  250    16   4479   \n",
      "\n",
      "        Hour_Counter  Hour_Tot    Tot    Avg  \n",
      "0               2043         1  26989  26989  \n",
      "1               2234         1  27006  27006  \n",
      "2               1707         1  27025  27025  \n",
      "3               1539         1  27059  27059  \n",
      "4               1538         1  27069  27069  \n",
      "...              ...       ...    ...    ...  \n",
      "551875          5969         1   4434   4434  \n",
      "551876          5990         1   4446   4446  \n",
      "551877          5993         1   4465   4465  \n",
      "551878          5991         1   4470   4470  \n",
      "551879          5992         1   4479   4479  \n",
      "\n",
      "[551880 rows x 12 columns]\n",
      "number of rows in dataset = 551880\n"
     ]
    }
   ],
   "source": [
    "bind_8760hr = x.copy()\n",
    "\n",
    "#average load based on order of groups\n",
    "aggregations = {x_column:['count',sum,'mean']}\n",
    "case_8760hr = bind_8760hr.groupby(['Region','Season','Month','Day','Hour'],as_index=False).agg(aggregations)\n",
    "case_8760hr.columns = case_8760hr.columns.droplevel(0)\n",
    "case_8760hr.columns = ['Region','Season','Month','Day','Hour','Hour_Tot','Tot','Avg']\n",
    "#print(case_8760hr.head())\n",
    "#print('number of rows in dataset =',case_8760hr.shape[0])\n",
    "case_8760hr.to_csv('../outputs/'+x_name+'/'+x_name+'_segments_bind_8760hr.csv')\n",
    "#print()\n",
    "\n",
    "bind_8760hr_2 = pd.merge(bind_8760hr,case_8760hr,on=['Region','Season','Month','Day','Hour'],how='left')\n",
    "bind_8760hr_2 = bind_8760hr_2.sort_values(['Region',x_column]).reset_index(drop=True)\n",
    "bind_8760hr_2 = bind_8760hr_2.drop(bind_8760hr_2.columns[0],axis=1)\n",
    "print(bind_8760hr_2)\n",
    "print('number of rows in dataset =',bind_8760hr_2.shape[0])\n",
    "bind_8760hr_2.to_csv('../outputs/'+x_name+'/'+x_name+'_8760_bind_8760hr.csv')"
   ]
  },
  {
   "cell_type": "markdown",
   "metadata": {},
   "source": [
    "#### 1 hour interval binding case "
   ]
  },
  {
   "cell_type": "code",
   "execution_count": 34,
   "metadata": {},
   "outputs": [
    {
     "name": "stdout",
     "output_type": "stream",
     "text": [
      "          Region R_Group R_Subgroup    Season  Month  Day  Hour   Load  \\\n",
      "0       ERC_REST     ERC       REST  shoulder      3   86     3  26989   \n",
      "1       ERC_REST     ERC       REST  shoulder      4   94     2  27006   \n",
      "2       ERC_REST     ERC       REST  shoulder      3   72     3  27025   \n",
      "3       ERC_REST     ERC       REST  shoulder      3   65     3  27059   \n",
      "4       ERC_REST     ERC       REST  shoulder      3   65     2  27069   \n",
      "...          ...     ...        ...       ...    ...  ...   ...    ...   \n",
      "551875  WEC_SDGE     WEC       SDGE    summer      9  249    17   4434   \n",
      "551876  WEC_SDGE     WEC       SDGE    summer      9  250    14   4446   \n",
      "551877  WEC_SDGE     WEC       SDGE    summer      9  250    17   4465   \n",
      "551878  WEC_SDGE     WEC       SDGE    summer      9  250    15   4470   \n",
      "551879  WEC_SDGE     WEC       SDGE    summer      9  250    16   4479   \n",
      "\n",
      "        Hour_Counter  Hour_Tot        Tot           Avg  \n",
      "0               2043      8760  351780123  40157.548288  \n",
      "1               2234      8760  351780123  40157.548288  \n",
      "2               1707      8760  351780123  40157.548288  \n",
      "3               1539      8760  351780123  40157.548288  \n",
      "4               1538      8760  351780123  40157.548288  \n",
      "...              ...       ...        ...           ...  \n",
      "551875          5969      8760   21268219   2427.878881  \n",
      "551876          5990      8760   21268219   2427.878881  \n",
      "551877          5993      8760   21268219   2427.878881  \n",
      "551878          5991      8760   21268219   2427.878881  \n",
      "551879          5992      8760   21268219   2427.878881  \n",
      "\n",
      "[551880 rows x 12 columns]\n",
      "number of rows in dataset = 551880\n"
     ]
    }
   ],
   "source": [
    "bind_1hr = x.copy()\n",
    "\n",
    "#average load based on order of groups\n",
    "aggregations = {x_column:['count',sum,'mean']}\n",
    "case_1hr = bind_1hr.groupby(['Region'],as_index=False).agg(aggregations)\n",
    "case_1hr.columns = case_1hr.columns.droplevel(0)\n",
    "case_1hr.columns = ['Region','Hour_Tot','Tot','Avg']\n",
    "#print(case_1hr.head())\n",
    "#print('number of rows in dataset =',case_1hr.shape[0])\n",
    "case_8760hr.to_csv('../outputs/'+x_name+'/'+x_name+'_segments_bind_1hr.csv')\n",
    "#print()\n",
    "\n",
    "bind_1hr_2 = pd.merge(bind_1hr,case_1hr,on=['Region'],how='left')\n",
    "bind_1hr_2 = bind_1hr_2.sort_values(['Region',x_column]).reset_index(drop=True)\n",
    "bind_1hr_2 = bind_1hr_2.drop(bind_1hr_2.columns[0],axis=1)\n",
    "print(bind_1hr_2)\n",
    "print('number of rows in dataset =',bind_1hr_2.shape[0])\n",
    "bind_1hr_2.to_csv('../outputs/'+x_name+'/'+x_name+'_8760_bind_1hr.csv')"
   ]
  },
  {
   "cell_type": "code",
   "execution_count": null,
   "metadata": {},
   "outputs": [],
   "source": []
  }
 ],
 "metadata": {
  "kernelspec": {
   "display_name": "Python 3",
   "language": "python",
   "name": "python3"
  },
  "language_info": {
   "codemirror_mode": {
    "name": "ipython",
    "version": 3
   },
   "file_extension": ".py",
   "mimetype": "text/x-python",
   "name": "python",
   "nbconvert_exporter": "python",
   "pygments_lexer": "ipython3",
   "version": "3.7.6"
  }
 },
 "nbformat": 4,
 "nbformat_minor": 4
}
