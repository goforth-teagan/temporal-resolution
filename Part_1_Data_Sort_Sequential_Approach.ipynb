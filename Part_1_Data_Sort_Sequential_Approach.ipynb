{
 "cells": [
  {
   "cell_type": "markdown",
   "metadata": {},
   "source": [
    "# Sequential Approach \n",
    "### Details: Split into different hour intervals (2, 4, 8, 12, 24, 48, 120) to test the accuracy of the load estimations\n",
    "#### Methodology: use a single csv numbered from 1 to 8760 to identify the groups that each hour will go in "
   ]
  },
  {
   "cell_type": "code",
   "execution_count": 29,
   "metadata": {},
   "outputs": [
    {
     "name": "stdout",
     "output_type": "stream",
     "text": [
      "          Region R_Group R_Subgroup  Season  Month  Day  Hour  Hour_Counter  \\\n",
      "0       ERC_REST     ERC       REST  winter      1    1     1             1   \n",
      "1       ERC_REST     ERC       REST  winter      1    1     2             2   \n",
      "2       ERC_REST     ERC       REST  winter      1    1     3             3   \n",
      "3       ERC_REST     ERC       REST  winter      1    1     4             4   \n",
      "4       ERC_REST     ERC       REST  winter      1    1     5             5   \n",
      "...          ...     ...        ...     ...    ...  ...   ...           ...   \n",
      "551875  WEC_SDGE     WEC       SDGE  winter     12  365    20          8756   \n",
      "551876  WEC_SDGE     WEC       SDGE  winter     12  365    21          8757   \n",
      "551877  WEC_SDGE     WEC       SDGE  winter     12  365    22          8758   \n",
      "551878  WEC_SDGE     WEC       SDGE  winter     12  365    23          8759   \n",
      "551879  WEC_SDGE     WEC       SDGE  winter     12  365    24          8760   \n",
      "\n",
      "         Load  2-hr  \n",
      "0       34807     1  \n",
      "1       34551     1  \n",
      "2       34788     2  \n",
      "3       35531     2  \n",
      "4       36633     3  \n",
      "...       ...   ...  \n",
      "551875   2809  4378  \n",
      "551876   2675  4379  \n",
      "551877   2524  4379  \n",
      "551878   2362  4380  \n",
      "551879   2206  4380  \n",
      "\n",
      "[551880 rows x 10 columns]\n"
     ]
    }
   ],
   "source": [
    "#importing packages needed for analysis\n",
    "import os\n",
    "import numpy as np\n",
    "import pandas as pd\n",
    "import math\n",
    "from pandas import DataFrame\n",
    "\n",
    "path = os.getcwd()\n",
    "#print(path)\n",
    "\n",
    "#load useful info into notebook\n",
    "seq_load = pd.read_csv('outputs/load_long_format.csv')\n",
    "seq_intervals = pd.read_csv('inputs/sequential_hours.csv')"
   ]
  },
  {
   "cell_type": "markdown",
   "metadata": {},
   "source": [
    "#### 2 hour interval"
   ]
  },
  {
   "cell_type": "code",
   "execution_count": 34,
   "metadata": {},
   "outputs": [
    {
     "name": "stdout",
     "output_type": "stream",
     "text": [
      "          Region R_Group R_Subgroup    Season  Month  Day  Hour  Hour_Counter  \\\n",
      "0       ERC_REST     ERC       REST  shoulder      3   86     3          2043   \n",
      "1       ERC_REST     ERC       REST  shoulder      4   94     2          2234   \n",
      "2       ERC_REST     ERC       REST  shoulder      3   72     3          1707   \n",
      "3       ERC_REST     ERC       REST  shoulder      3   65     3          1539   \n",
      "4       ERC_REST     ERC       REST  shoulder      3   65     2          1538   \n",
      "...          ...     ...        ...       ...    ...  ...   ...           ...   \n",
      "551875  WEC_SDGE     WEC       SDGE    summer      9  249    17          5969   \n",
      "551876  WEC_SDGE     WEC       SDGE    summer      9  250    14          5990   \n",
      "551877  WEC_SDGE     WEC       SDGE    summer      9  250    17          5993   \n",
      "551878  WEC_SDGE     WEC       SDGE    summer      9  250    15          5991   \n",
      "551879  WEC_SDGE     WEC       SDGE    summer      9  250    16          5992   \n",
      "\n",
      "         Load  2-hr  2-hr_Load_Tot  2-hr_Load_Avg  \n",
      "0       26989  1022          54260        27130.0  \n",
      "1       27006  1117          54076        27038.0  \n",
      "2       27025   854          54225        27112.5  \n",
      "3       27059   770          54519        27259.5  \n",
      "4       27069   769          54429        27214.5  \n",
      "...       ...   ...            ...            ...  \n",
      "551875   4434  2985           8817         4408.5  \n",
      "551876   4446  2995           8750         4375.0  \n",
      "551877   4465  2997           8825         4412.5  \n",
      "551878   4470  2996           8949         4474.5  \n",
      "551879   4479  2996           8949         4474.5  \n",
      "\n",
      "[551880 rows x 12 columns]\n",
      "number of rows in dataset = 551880\n"
     ]
    }
   ],
   "source": [
    "#start with 2 hour interval\n",
    "seq_2hr = seq_load.copy()\n",
    "seq_2hr = pd.merge(seq_2hr, seq_intervals, on='Hour_Counter', how='left')\n",
    "seq_2hr = seq_2hr.drop(seq_2hr.columns[0], axis=1)\n",
    "seq_2hr = seq_2hr.drop(columns=['4-hr','8-hr','12-hr','24-hr','48-hr','120-hr'])\n",
    "#print(seq_2hr)\n",
    "\n",
    "#average load based on order of groups\n",
    "aggregations = {'Load':[sum,'mean']}\n",
    "case_2hr = seq_2hr.groupby(['Region','2-hr'],as_index=False).agg(aggregations)\n",
    "case_2hr.columns = case_2hr.columns.droplevel(0)\n",
    "case_2hr.columns = ['Region','2-hr','2-hr_Load_Tot','2-hr_Load_Avg']\n",
    "#print(case_2hr.head())\n",
    "#print('number of rows in dataset =',case_2hr.shape[0])\n",
    "#case_2hr.to_csv('outputs/load_segments_seq_2hr.csv')\n",
    "#print()\n",
    "\n",
    "seq_2hr_2 = pd.merge(seq_2hr,case_2hr,on=['Region','2-hr'],how='left')\n",
    "seq_2hr_2 = seq_2hr_2.sort_values(['Region','Load']).reset_index(drop=True)\n",
    "print(seq_2hr_2)\n",
    "print('number of rows in dataset =',seq_2hr_2.shape[0])\n",
    "#seq_2hr_2.to_csv('outputs/load_8760_seq_2hr.csv')"
   ]
  },
  {
   "cell_type": "markdown",
   "metadata": {},
   "source": [
    "#### 4 hour interval"
   ]
  },
  {
   "cell_type": "code",
   "execution_count": 35,
   "metadata": {},
   "outputs": [
    {
     "name": "stdout",
     "output_type": "stream",
     "text": [
      "          Region R_Group R_Subgroup    Season  Month  Day  Hour  Hour_Counter  \\\n",
      "0       ERC_REST     ERC       REST  shoulder      3   86     3          2043   \n",
      "1       ERC_REST     ERC       REST  shoulder      4   94     2          2234   \n",
      "2       ERC_REST     ERC       REST  shoulder      3   72     3          1707   \n",
      "3       ERC_REST     ERC       REST  shoulder      3   65     3          1539   \n",
      "4       ERC_REST     ERC       REST  shoulder      3   65     2          1538   \n",
      "...          ...     ...        ...       ...    ...  ...   ...           ...   \n",
      "551875  WEC_SDGE     WEC       SDGE    summer      9  249    17          5969   \n",
      "551876  WEC_SDGE     WEC       SDGE    summer      9  250    14          5990   \n",
      "551877  WEC_SDGE     WEC       SDGE    summer      9  250    17          5993   \n",
      "551878  WEC_SDGE     WEC       SDGE    summer      9  250    15          5991   \n",
      "551879  WEC_SDGE     WEC       SDGE    summer      9  250    16          5992   \n",
      "\n",
      "         Load  4-hr  4-hr_Load_Tot  4-hr_Load_Avg  \n",
      "0       26989   511         108862       27215.50  \n",
      "1       27006   559         111068       27767.00  \n",
      "2       27025   427         109231       27307.75  \n",
      "3       27059   385         108948       27237.00  \n",
      "4       27069   385         108948       27237.00  \n",
      "...       ...   ...            ...            ...  \n",
      "551875   4434  1493          17191        4297.75  \n",
      "551876   4446  1498          17699        4424.75  \n",
      "551877   4465  1499          17222        4305.50  \n",
      "551878   4470  1498          17699        4424.75  \n",
      "551879   4479  1498          17699        4424.75  \n",
      "\n",
      "[551880 rows x 12 columns]\n",
      "number of rows in dataset = 551880\n"
     ]
    }
   ],
   "source": [
    "seq_4hr = seq_load.copy()\n",
    "seq_4hr = pd.merge(seq_4hr, seq_intervals, on='Hour_Counter', how='left')\n",
    "seq_4hr = seq_4hr.drop(seq_4hr.columns[0], axis=1)\n",
    "seq_4hr = seq_4hr.drop(columns=['2-hr','8-hr','12-hr','24-hr','48-hr','120-hr'])\n",
    "#print(seq_4hr)\n",
    "\n",
    "#average load based on order of groups\n",
    "aggregations = {'Load':[sum,'mean']}\n",
    "case_4hr = seq_4hr.groupby(['Region','4-hr'],as_index=False).agg(aggregations)\n",
    "case_4hr.columns = case_4hr.columns.droplevel(0)\n",
    "case_4hr.columns = ['Region','4-hr','4-hr_Load_Tot','4-hr_Load_Avg']\n",
    "#print(case_4hr.head())\n",
    "#print('number of rows in dataset =',case_4hr.shape[0])\n",
    "#case_4hr.to_csv('outputs/load_segments_seq_4hr.csv')\n",
    "#print()\n",
    "\n",
    "seq_4hr_2 = pd.merge(seq_4hr,case_4hr,on=['Region','4-hr'],how='left')\n",
    "seq_4hr_2 = seq_4hr_2.sort_values(['Region','Load']).reset_index(drop=True)\n",
    "print(seq_4hr_2)\n",
    "print('number of rows in dataset =',seq_4hr_2.shape[0])\n",
    "#seq_4hr_2.to_csv('outputs/load_8760_seq_4hr.csv')"
   ]
  },
  {
   "cell_type": "markdown",
   "metadata": {},
   "source": [
    "#### 8 hour interval"
   ]
  },
  {
   "cell_type": "code",
   "execution_count": 36,
   "metadata": {},
   "outputs": [
    {
     "name": "stdout",
     "output_type": "stream",
     "text": [
      "          Region R_Group R_Subgroup    Season  Month  Day  Hour  Hour_Counter  \\\n",
      "0       ERC_REST     ERC       REST  shoulder      3   86     3          2043   \n",
      "1       ERC_REST     ERC       REST  shoulder      4   94     2          2234   \n",
      "2       ERC_REST     ERC       REST  shoulder      3   72     3          1707   \n",
      "3       ERC_REST     ERC       REST  shoulder      3   65     3          1539   \n",
      "4       ERC_REST     ERC       REST  shoulder      3   65     2          1538   \n",
      "...          ...     ...        ...       ...    ...  ...   ...           ...   \n",
      "551875  WEC_SDGE     WEC       SDGE    summer      9  249    17          5969   \n",
      "551876  WEC_SDGE     WEC       SDGE    summer      9  250    14          5990   \n",
      "551877  WEC_SDGE     WEC       SDGE    summer      9  250    17          5993   \n",
      "551878  WEC_SDGE     WEC       SDGE    summer      9  250    15          5991   \n",
      "551879  WEC_SDGE     WEC       SDGE    summer      9  250    16          5992   \n",
      "\n",
      "         Load  8-hr  8-hr_Load_Tot  8-hr_Load_Avg  \n",
      "0       26989   256         227259      28407.375  \n",
      "1       27006   280         245917      30739.625  \n",
      "2       27025   214         225022      28127.750  \n",
      "3       27059   193         227812      28476.500  \n",
      "4       27069   193         227812      28476.500  \n",
      "...       ...   ...            ...            ...  \n",
      "551875   4434   747          30851       3856.375  \n",
      "551876   4446   749          32436       4054.500  \n",
      "551877   4465   750          31102       3887.750  \n",
      "551878   4470   749          32436       4054.500  \n",
      "551879   4479   749          32436       4054.500  \n",
      "\n",
      "[551880 rows x 12 columns]\n",
      "number of rows in dataset = 551880\n"
     ]
    }
   ],
   "source": [
    "seq_8hr = seq_load.copy()\n",
    "seq_8hr = pd.merge(seq_8hr, seq_intervals, on='Hour_Counter', how='left')\n",
    "seq_8hr = seq_8hr.drop(seq_8hr.columns[0], axis=1)\n",
    "seq_8hr = seq_8hr.drop(columns=['2-hr','4-hr','12-hr','24-hr','48-hr','120-hr'])\n",
    "#print(seq_8hr)\n",
    "\n",
    "#average load based on order of groups\n",
    "aggregations = {'Load':[sum,'mean']}\n",
    "case_8hr = seq_8hr.groupby(['Region','8-hr'],as_index=False).agg(aggregations)\n",
    "case_8hr.columns = case_8hr.columns.droplevel(0)\n",
    "case_8hr.columns = ['Region','8-hr','8-hr_Load_Tot','8-hr_Load_Avg']\n",
    "#print(case_8hr.head())\n",
    "#print('number of rows in dataset =',case_8hr.shape[0])\n",
    "case_8hr.to_csv('outputs/load_segments_seq_8hr.csv')\n",
    "#print()\n",
    "\n",
    "seq_8hr_2 = pd.merge(seq_8hr,case_8hr,on=['Region','8-hr'],how='left')\n",
    "seq_8hr_2 = seq_8hr_2.sort_values(['Region','Load']).reset_index(drop=True)\n",
    "print(seq_8hr_2)\n",
    "print('number of rows in dataset =',seq_8hr_2.shape[0])\n",
    "seq_8hr_2.to_csv('outputs/load_8760_seq_8hr.csv')"
   ]
  },
  {
   "cell_type": "markdown",
   "metadata": {},
   "source": [
    "#### 12 hour interval"
   ]
  },
  {
   "cell_type": "code",
   "execution_count": 37,
   "metadata": {},
   "outputs": [
    {
     "name": "stdout",
     "output_type": "stream",
     "text": [
      "          Region R_Group R_Subgroup    Season  Month  Day  Hour  Hour_Counter  \\\n",
      "0       ERC_REST     ERC       REST  shoulder      3   86     3          2043   \n",
      "1       ERC_REST     ERC       REST  shoulder      4   94     2          2234   \n",
      "2       ERC_REST     ERC       REST  shoulder      3   72     3          1707   \n",
      "3       ERC_REST     ERC       REST  shoulder      3   65     3          1539   \n",
      "4       ERC_REST     ERC       REST  shoulder      3   65     2          1538   \n",
      "...          ...     ...        ...       ...    ...  ...   ...           ...   \n",
      "551875  WEC_SDGE     WEC       SDGE    summer      9  249    17          5969   \n",
      "551876  WEC_SDGE     WEC       SDGE    summer      9  250    14          5990   \n",
      "551877  WEC_SDGE     WEC       SDGE    summer      9  250    17          5993   \n",
      "551878  WEC_SDGE     WEC       SDGE    summer      9  250    15          5991   \n",
      "551879  WEC_SDGE     WEC       SDGE    summer      9  250    16          5992   \n",
      "\n",
      "         Load  12-hr  12-hr_Load_Tot  12-hr_Load_Avg  \n",
      "0       26989    171          358408    29867.333333  \n",
      "1       27006    187          388932    32411.000000  \n",
      "2       27025    143          357054    29754.500000  \n",
      "3       27059    129          359432    29952.666667  \n",
      "4       27069    129          359432    29952.666667  \n",
      "...       ...    ...             ...             ...  \n",
      "551875   4434    498           46925     3910.416667  \n",
      "551876   4446    500           48801     4066.750000  \n",
      "551877   4465    500           48801     4066.750000  \n",
      "551878   4470    500           48801     4066.750000  \n",
      "551879   4479    500           48801     4066.750000  \n",
      "\n",
      "[551880 rows x 12 columns]\n",
      "number of rows in dataset = 551880\n"
     ]
    }
   ],
   "source": [
    "seq_12hr = seq_load.copy()\n",
    "seq_12hr = pd.merge(seq_12hr, seq_intervals, on='Hour_Counter', how='left')\n",
    "seq_12hr = seq_12hr.drop(seq_12hr.columns[0], axis=1)\n",
    "seq_12hr = seq_12hr.drop(columns=['2-hr','4-hr','8-hr','24-hr','48-hr','120-hr'])\n",
    "#print(seq_12hr)\n",
    "\n",
    "#average load based on order of groups\n",
    "aggregations = {'Load':[sum,'mean']}\n",
    "case_12hr = seq_12hr.groupby(['Region','12-hr'],as_index=False).agg(aggregations)\n",
    "case_12hr.columns = case_12hr.columns.droplevel(0)\n",
    "case_12hr.columns = ['Region','12-hr','12-hr_Load_Tot','12-hr_Load_Avg']\n",
    "#print(case_12hr.head())\n",
    "#print('number of rows in dataset =',case_12hr.shape[0])\n",
    "#case_12hr.to_csv('outputs/load_segments_seq_12hr.csv')\n",
    "#print()\n",
    "\n",
    "seq_12hr_2 = pd.merge(seq_12hr,case_12hr,on=['Region','12-hr'],how='left')\n",
    "seq_12hr_2 = seq_12hr_2.sort_values(['Region','Load']).reset_index(drop=True)\n",
    "print(seq_12hr_2)\n",
    "print('number of rows in dataset =',seq_12hr_2.shape[0])\n",
    "#seq_12hr_2.to_csv('outputs/load_8760_seq_12hr.csv')"
   ]
  },
  {
   "cell_type": "markdown",
   "metadata": {},
   "source": [
    "#### 24 hour"
   ]
  },
  {
   "cell_type": "code",
   "execution_count": 38,
   "metadata": {},
   "outputs": [
    {
     "name": "stdout",
     "output_type": "stream",
     "text": [
      "          Region R_Group R_Subgroup    Season  Month  Day  Hour  Hour_Counter  \\\n",
      "0       ERC_REST     ERC       REST  shoulder      3   86     3          2043   \n",
      "1       ERC_REST     ERC       REST  shoulder      4   94     2          2234   \n",
      "2       ERC_REST     ERC       REST  shoulder      3   72     3          1707   \n",
      "3       ERC_REST     ERC       REST  shoulder      3   65     3          1539   \n",
      "4       ERC_REST     ERC       REST  shoulder      3   65     2          1538   \n",
      "...          ...     ...        ...       ...    ...  ...   ...           ...   \n",
      "551875  WEC_SDGE     WEC       SDGE    summer      9  249    17          5969   \n",
      "551876  WEC_SDGE     WEC       SDGE    summer      9  250    14          5990   \n",
      "551877  WEC_SDGE     WEC       SDGE    summer      9  250    17          5993   \n",
      "551878  WEC_SDGE     WEC       SDGE    summer      9  250    15          5991   \n",
      "551879  WEC_SDGE     WEC       SDGE    summer      9  250    16          5992   \n",
      "\n",
      "         Load  24-hr  24-hr_Load_Tot  24-hr_Load_Avg  \n",
      "0       26989     86          748721    31196.708333  \n",
      "1       27006     94          831174    34632.250000  \n",
      "2       27025     72          771304    32137.666667  \n",
      "3       27059     65          758264    31594.333333  \n",
      "4       27069     65          758264    31594.333333  \n",
      "...       ...    ...             ...             ...  \n",
      "551875   4434    249           76796     3199.833333  \n",
      "551876   4446    250           82552     3439.666667  \n",
      "551877   4465    250           82552     3439.666667  \n",
      "551878   4470    250           82552     3439.666667  \n",
      "551879   4479    250           82552     3439.666667  \n",
      "\n",
      "[551880 rows x 12 columns]\n",
      "number of rows in dataset = 551880\n"
     ]
    }
   ],
   "source": [
    "seq_24hr = seq_load.copy()\n",
    "seq_24hr = pd.merge(seq_24hr, seq_intervals, on='Hour_Counter', how='left')\n",
    "seq_24hr = seq_24hr.drop(seq_24hr.columns[0], axis=1)\n",
    "seq_24hr = seq_24hr.drop(columns=['2-hr','4-hr','8-hr','12-hr','48-hr','120-hr'])\n",
    "#print(seq_24hr)\n",
    "\n",
    "#average load based on order of groups\n",
    "aggregations = {'Load':[sum,'mean']}\n",
    "case_24hr = seq_24hr.groupby(['Region','24-hr'],as_index=False).agg(aggregations)\n",
    "case_24hr.columns = case_24hr.columns.droplevel(0)\n",
    "case_24hr.columns = ['Region','24-hr','24-hr_Load_Tot','24-hr_Load_Avg']\n",
    "#print(case_24hr.head())\n",
    "#print('number of rows in dataset =',case_24hr.shape[0])\n",
    "#case_24hr.to_csv('outputs/load_segments_seq_24hr.csv')\n",
    "#print()\n",
    "\n",
    "seq_24hr_2 = pd.merge(seq_24hr,case_24hr,on=['Region','24-hr'],how='left')\n",
    "seq_24hr_2 = seq_24hr_2.sort_values(['Region','Load']).reset_index(drop=True)\n",
    "print(seq_24hr_2)\n",
    "print('number of rows in dataset =',seq_24hr_2.shape[0])\n",
    "#seq_24hr_2.to_csv('outputs/load_8760_seq_24hr.csv')"
   ]
  },
  {
   "cell_type": "markdown",
   "metadata": {},
   "source": [
    "#### 48 hour interval"
   ]
  },
  {
   "cell_type": "code",
   "execution_count": 39,
   "metadata": {},
   "outputs": [
    {
     "name": "stdout",
     "output_type": "stream",
     "text": [
      "          Region R_Group R_Subgroup    Season  Month  Day  Hour  Hour_Counter  \\\n",
      "0       ERC_REST     ERC       REST  shoulder      3   86     3          2043   \n",
      "1       ERC_REST     ERC       REST  shoulder      4   94     2          2234   \n",
      "2       ERC_REST     ERC       REST  shoulder      3   72     3          1707   \n",
      "3       ERC_REST     ERC       REST  shoulder      3   65     3          1539   \n",
      "4       ERC_REST     ERC       REST  shoulder      3   65     2          1538   \n",
      "...          ...     ...        ...       ...    ...  ...   ...           ...   \n",
      "551875  WEC_SDGE     WEC       SDGE    summer      9  249    17          5969   \n",
      "551876  WEC_SDGE     WEC       SDGE    summer      9  250    14          5990   \n",
      "551877  WEC_SDGE     WEC       SDGE    summer      9  250    17          5993   \n",
      "551878  WEC_SDGE     WEC       SDGE    summer      9  250    15          5991   \n",
      "551879  WEC_SDGE     WEC       SDGE    summer      9  250    16          5992   \n",
      "\n",
      "         Load  48-hr  48-hr_Load_Tot  48-hr_Load_Avg  \n",
      "0       26989     43         1506106    31377.208333  \n",
      "1       27006     47         1588883    33101.729167  \n",
      "2       27025     36         1532197    31920.770833  \n",
      "3       27059     33         1579670    32909.791667  \n",
      "4       27069     33         1579670    32909.791667  \n",
      "...       ...    ...             ...             ...  \n",
      "551875   4434    125          159348     3319.750000  \n",
      "551876   4446    125          159348     3319.750000  \n",
      "551877   4465    125          159348     3319.750000  \n",
      "551878   4470    125          159348     3319.750000  \n",
      "551879   4479    125          159348     3319.750000  \n",
      "\n",
      "[551880 rows x 12 columns]\n",
      "number of rows in dataset = 551880\n"
     ]
    }
   ],
   "source": [
    "seq_48hr = seq_load.copy()\n",
    "seq_48hr = pd.merge(seq_48hr, seq_intervals, on='Hour_Counter', how='left')\n",
    "seq_48hr = seq_48hr.drop(seq_48hr.columns[0], axis=1)\n",
    "seq_48hr = seq_48hr.drop(columns=['2-hr','4-hr','8-hr','12-hr','24-hr','120-hr'])\n",
    "#print(seq_48hr)\n",
    "\n",
    "#average load based on order of groups\n",
    "aggregations = {'Load':[sum,'mean']}\n",
    "case_48hr = seq_48hr.groupby(['Region','48-hr'],as_index=False).agg(aggregations)\n",
    "case_48hr.columns = case_48hr.columns.droplevel(0)\n",
    "case_48hr.columns = ['Region','48-hr','48-hr_Load_Tot','48-hr_Load_Avg']\n",
    "#print(case_48hr.head())\n",
    "#print('number of rows in dataset =',case_48hr.shape[0])\n",
    "#case_48hr.to_csv('outputs/load_segments_seq_48hr.csv')\n",
    "#print()\n",
    "\n",
    "seq_48hr_2 = pd.merge(seq_48hr,case_48hr,on=['Region','48-hr'],how='left')\n",
    "seq_48hr_2 = seq_48hr_2.sort_values(['Region','Load']).reset_index(drop=True)\n",
    "print(seq_48hr_2)\n",
    "print('number of rows in dataset =',seq_48hr_2.shape[0])\n",
    "#seq_48hr_2.to_csv('outputs/load_8760_seq_48hr.csv')"
   ]
  },
  {
   "cell_type": "markdown",
   "metadata": {},
   "source": [
    "#### 120 hour interval"
   ]
  },
  {
   "cell_type": "code",
   "execution_count": 40,
   "metadata": {},
   "outputs": [
    {
     "name": "stdout",
     "output_type": "stream",
     "text": [
      "          Region R_Group R_Subgroup    Season  Month  Day  Hour  Hour_Counter  \\\n",
      "0       ERC_REST     ERC       REST  shoulder      3   86     3          2043   \n",
      "1       ERC_REST     ERC       REST  shoulder      4   94     2          2234   \n",
      "2       ERC_REST     ERC       REST  shoulder      3   72     3          1707   \n",
      "3       ERC_REST     ERC       REST  shoulder      3   65     3          1539   \n",
      "4       ERC_REST     ERC       REST  shoulder      3   65     2          1538   \n",
      "...          ...     ...        ...       ...    ...  ...   ...           ...   \n",
      "551875  WEC_SDGE     WEC       SDGE    summer      9  249    17          5969   \n",
      "551876  WEC_SDGE     WEC       SDGE    summer      9  250    14          5990   \n",
      "551877  WEC_SDGE     WEC       SDGE    summer      9  250    17          5993   \n",
      "551878  WEC_SDGE     WEC       SDGE    summer      9  250    15          5991   \n",
      "551879  WEC_SDGE     WEC       SDGE    summer      9  250    16          5992   \n",
      "\n",
      "         Load  120-hr  120-hr_Load_Tot  120-hr_Load_Avg  \n",
      "0       26989      18          4122052     34350.433333  \n",
      "1       27006      19          3978846     33157.050000  \n",
      "2       27025      15          4098759     34156.325000  \n",
      "3       27059      13          3967672     33063.933333  \n",
      "4       27069      13          3967672     33063.933333  \n",
      "...       ...     ...              ...              ...  \n",
      "551875   4434      50           332316      2769.300000  \n",
      "551876   4446      50           332316      2769.300000  \n",
      "551877   4465      50           332316      2769.300000  \n",
      "551878   4470      50           332316      2769.300000  \n",
      "551879   4479      50           332316      2769.300000  \n",
      "\n",
      "[551880 rows x 12 columns]\n",
      "number of rows in dataset = 551880\n"
     ]
    }
   ],
   "source": [
    "seq_120hr = seq_load.copy()\n",
    "seq_120hr = pd.merge(seq_120hr, seq_intervals, on='Hour_Counter', how='left')\n",
    "seq_120hr = seq_120hr.drop(seq_120hr.columns[0], axis=1)\n",
    "seq_120hr = seq_120hr.drop(columns=['2-hr','4-hr','8-hr','12-hr','24-hr','48-hr'])\n",
    "#print(seq_120hr)\n",
    "\n",
    "#average load based on order of groups\n",
    "aggregations = {'Load':[sum,'mean']}\n",
    "case_120hr = seq_120hr.groupby(['Region','120-hr'],as_index=False).agg(aggregations)\n",
    "case_120hr.columns = case_120hr.columns.droplevel(0)\n",
    "case_120hr.columns = ['Region','120-hr','120-hr_Load_Tot','120-hr_Load_Avg']\n",
    "#print(case_120hr.head())\n",
    "#print('number of rows in dataset =',case_120hr.shape[0])\n",
    "#case_120hr.to_csv('outputs/load_segments_seq_120hr.csv')\n",
    "#print()\n",
    "\n",
    "seq_120hr_2 = pd.merge(seq_120hr,case_120hr,on=['Region','120-hr'],how='left')\n",
    "seq_120hr_2 = seq_120hr_2.sort_values(['Region','Load']).reset_index(drop=True)\n",
    "print(seq_120hr_2)\n",
    "print('number of rows in dataset =',seq_120hr_2.shape[0])\n",
    "#seq_120hr_2.to_csv('outputs/load_8760_seq_120hr.csv')"
   ]
  },
  {
   "cell_type": "code",
   "execution_count": null,
   "metadata": {},
   "outputs": [],
   "source": []
  }
 ],
 "metadata": {
  "kernelspec": {
   "display_name": "Python 3",
   "language": "python",
   "name": "python3"
  },
  "language_info": {
   "codemirror_mode": {
    "name": "ipython",
    "version": 3
   },
   "file_extension": ".py",
   "mimetype": "text/x-python",
   "name": "python",
   "nbconvert_exporter": "python",
   "pygments_lexer": "ipython3",
   "version": "3.7.6"
  }
 },
 "nbformat": 4,
 "nbformat_minor": 4
}
