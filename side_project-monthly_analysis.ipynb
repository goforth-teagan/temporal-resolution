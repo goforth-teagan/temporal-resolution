{
 "cells": [
  {
   "cell_type": "markdown",
   "metadata": {},
   "source": [
    "# Upload data"
   ]
  },
  {
   "cell_type": "code",
   "execution_count": 17,
   "metadata": {},
   "outputs": [],
   "source": [
    "#importing packages needed for analysis\n",
    "import os\n",
    "import numpy as np\n",
    "import pandas as pd\n",
    "import math\n",
    "from pandas import DataFrame"
   ]
  },
  {
   "cell_type": "code",
   "execution_count": 18,
   "metadata": {},
   "outputs": [
    {
     "name": "stdout",
     "output_type": "stream",
     "text": [
      "   Unnamed: 0    Region R_Group R_Subgroup  Season  Month  Day  Hour  \\\n",
      "0           0  ERC_REST     ERC       REST  winter      1    1     1   \n",
      "1           1  ERC_REST     ERC       REST  winter      1    1     2   \n",
      "2           2  ERC_REST     ERC       REST  winter      1    1     3   \n",
      "3           3  ERC_REST     ERC       REST  winter      1    1     4   \n",
      "4           4  ERC_REST     ERC       REST  winter      1    1     5   \n",
      "\n",
      "   Hour_Counter   Load  \n",
      "0             1  34807  \n",
      "1             2  34551  \n",
      "2             3  34788  \n",
      "3             4  35531  \n",
      "4             5  36633  \n"
     ]
    }
   ],
   "source": [
    "df = pd.read_csv('..\\\\outputs\\\\load_long_format.csv')\n",
    "print(df.head())"
   ]
  },
  {
   "cell_type": "markdown",
   "metadata": {},
   "source": [
    "# Group data"
   ]
  },
  {
   "cell_type": "code",
   "execution_count": 19,
   "metadata": {},
   "outputs": [
    {
     "data": {
      "text/plain": [
       "['Unnamed: 0',\n",
       " 'Region',\n",
       " 'R_Group',\n",
       " 'R_Subgroup',\n",
       " 'Season',\n",
       " 'Month',\n",
       " 'Day',\n",
       " 'Hour',\n",
       " 'Hour_Counter',\n",
       " 'Load']"
      ]
     },
     "execution_count": 19,
     "metadata": {},
     "output_type": "execute_result"
    }
   ],
   "source": [
    "col = list(df.columns)\n",
    "col"
   ]
  },
  {
   "cell_type": "code",
   "execution_count": 20,
   "metadata": {},
   "outputs": [
    {
     "name": "stdout",
     "output_type": "stream",
     "text": [
      "   Month   Load\n",
      "0      1  34807\n",
      "1      1  34551\n",
      "2      1  34788\n",
      "3      1  35531\n",
      "4      1  36633\n"
     ]
    }
   ],
   "source": [
    "df2 = df.drop(columns= \n",
    "    ['Unnamed: 0',\n",
    "     'Region',\n",
    "     'R_Group',\n",
    "     'R_Subgroup',\n",
    "     'Season',\n",
    "     'Day',\n",
    "     'Hour',\n",
    "     'Hour_Counter'])\n",
    "print(df2.head())"
   ]
  },
  {
   "cell_type": "code",
   "execution_count": 24,
   "metadata": {},
   "outputs": [
    {
     "name": "stdout",
     "output_type": "stream",
     "text": [
      "            Load\n",
      "Month           \n",
      "1      358297880\n",
      "2      307790893\n",
      "3      318936313\n",
      "4      302880540\n",
      "5      326169507\n",
      "6      362821988\n",
      "7      408023107\n",
      "8      397052277\n",
      "9      337296769\n",
      "10     314876510\n",
      "11     305899488\n",
      "12     336425876\n"
     ]
    }
   ],
   "source": [
    "df3 = df2.groupby(['Month']).sum()\n",
    "print(df3)"
   ]
  },
  {
   "cell_type": "code",
   "execution_count": null,
   "metadata": {},
   "outputs": [],
   "source": []
  }
 ],
 "metadata": {
  "kernelspec": {
   "display_name": "Python 3",
   "language": "python",
   "name": "python3"
  },
  "language_info": {
   "codemirror_mode": {
    "name": "ipython",
    "version": 3
   },
   "file_extension": ".py",
   "mimetype": "text/x-python",
   "name": "python",
   "nbconvert_exporter": "python",
   "pygments_lexer": "ipython3",
   "version": "3.7.3"
  }
 },
 "nbformat": 4,
 "nbformat_minor": 2
}
