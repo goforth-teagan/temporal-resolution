{
 "cells": [
  {
   "cell_type": "markdown",
   "metadata": {},
   "source": [
    "# Prepare the 8760 dataset"
   ]
  },
  {
   "cell_type": "code",
   "execution_count": 51,
   "metadata": {},
   "outputs": [
    {
     "name": "stdout",
     "output_type": "stream",
     "text": [
      "output files are written out in parent directory: C:\\Users\\cmarcy\\Desktop\\temporal\\temporal_working\\outputs\n"
     ]
    }
   ],
   "source": [
    "#importing packages needed for analysis\n",
    "import os\n",
    "import numpy as np\n",
    "import pandas as pd\n",
    "import math\n",
    "from pandas import DataFrame\n",
    "\n",
    "#this code creates an output directory in the parent director, if one does not exist yet\n",
    "#Note: this is where all of the output files will be written, since outputs are large this saves space in git\n",
    "path = os.getcwd()\n",
    "parent = os.path.dirname(path)\n",
    "outputs_dir = parent+'\\outputs'\n",
    "if not os.path.exists(outputs_dir):\n",
    "    os.makedirs(outputs_dir)\n",
    "print('output files are written out in parent directory: '+outputs_dir)"
   ]
  },
  {
   "cell_type": "code",
   "execution_count": 37,
   "metadata": {},
   "outputs": [
    {
     "name": "stdout",
     "output_type": "stream",
     "text": [
      "     Region  Month  Day    Hour 1    Hour 2    Hour 3    Hour 4    Hour 5  \\\n",
      "0  ERC_REST      1    1   34,807    34,551    34,788    35,531    36,633    \n",
      "1  ERC_REST      1    2   34,716    34,719    35,076    35,891    37,091    \n",
      "\n",
      "     Hour 6    Hour 7  ...   Hour 15   Hour 16   Hour 17   Hour 18   Hour 19  \\\n",
      "0   37,780    38,831   ...   38,507    40,084    41,198    40,959    40,549    \n",
      "1   38,207    38,720   ...   33,211    34,968    37,573    38,213    38,257    \n",
      "\n",
      "    Hour 20   Hour 21   Hour 22   Hour 23   Hour 24  \n",
      "0   39,766    38,510    37,012    35,811    35,061   \n",
      "1   37,911    36,743    35,379    34,598    34,444   \n",
      "\n",
      "[2 rows x 27 columns]\n",
      "\n",
      "number of rows in dataset = 27010\n"
     ]
    }
   ],
   "source": [
    "load_raw = pd.read_csv('inputs/load_duration_curves_raw_data.csv')\n",
    "print(load_raw.head(2))\n",
    "print()\n",
    "print('number of rows in dataset =', load_raw.shape[0])"
   ]
  },
  {
   "cell_type": "code",
   "execution_count": 38,
   "metadata": {},
   "outputs": [
    {
     "name": "stdout",
     "output_type": "stream",
     "text": [
      "number of rows in dataset (including CN) = 27010\n",
      "number of regions in dataset (including CN) = 74\n",
      "number of regional groups in dataset (including CN) = 10\n",
      "\n",
      "  R_Group R_Subgroup    Region  Month  Day    Hour 1    Hour 2    Hour 3  \\\n",
      "0     ERC       REST  ERC_REST      1    1   34,807    34,551    34,788    \n",
      "1     ERC       REST  ERC_REST      1    2   34,716    34,719    35,076    \n",
      "\n",
      "     Hour 4    Hour 5  ...   Hour 15   Hour 16   Hour 17   Hour 18   Hour 19  \\\n",
      "0   35,531    36,633   ...   38,507    40,084    41,198    40,959    40,549    \n",
      "1   35,891    37,091   ...   33,211    34,968    37,573    38,213    38,257    \n",
      "\n",
      "    Hour 20   Hour 21   Hour 22   Hour 23   Hour 24  \n",
      "0   39,766    38,510    37,012    35,811    35,061   \n",
      "1   37,911    36,743    35,379    34,598    34,444   \n",
      "\n",
      "[2 rows x 29 columns]\n",
      "\n",
      "number of rows in dataset after removing CN = 22995\n",
      "number of regions in dataset (excluding CN) = 63\n",
      "number of regional groups in dataset (excluding CN) = 9\n"
     ]
    }
   ],
   "source": [
    "#Organizing regional data\n",
    "\n",
    "#create temporary copy to make changes on\n",
    "load_org = load_raw.copy()\n",
    "print('number of rows in dataset (including CN) =',load_org.shape[0])\n",
    "\n",
    "#Regional IDs\n",
    "unique_r = pd.Series(load_org['Region'].unique()).dropna()\n",
    "rl = unique_r.str.split(\"_\",n=1,expand=True)\n",
    "rl[2] = unique_r\n",
    "#print(rl)\n",
    "print('number of regions in dataset (including CN) =',unique_r.shape[0])\n",
    "\n",
    "#Cleaning up the empty subgroups\n",
    "#print(rl[rl.isna().any(axis=1)])\n",
    "rl.loc[rl[0] == 'NENGREST', 1] = 'REST'\n",
    "rl.loc[rl[0] == 'FRCC', 1] = 'FRCC'\n",
    "\n",
    "#Cleaning up the misnamed groups\n",
    "#unique_g = pd.Series(rl[0].unique()).dropna()\n",
    "#print(unique_g)\n",
    "rl[0] = rl[0].replace('NENGREST','NENG')\n",
    "rl[0] = rl[0].replace('WECC','WEC')\n",
    "unique_g = pd.Series(rl[0].unique()).dropna()\n",
    "print('number of regional groups in dataset (including CN) =',unique_g.shape[0])\n",
    "rl.rename(columns={0 : \"R_Group\", 1: 'R_Subgroup', 2:'Region'},inplace=True)\n",
    "#print(rl.head())\n",
    "\n",
    "#Merging Regional Data to DF\n",
    "load_org = pd.merge(rl,load_org,on='Region',how='right')\n",
    "print()\n",
    "print(load_org.head(2))\n",
    "\n",
    "#Removing Canada\n",
    "load_org = load_org[load_org['R_Group']!=\"CN\"]\n",
    "print()\n",
    "print('number of rows in dataset after removing CN =',load_org.shape[0])\n",
    "unique_r = pd.Series(load_org['Region'].unique()).dropna()\n",
    "print('number of regions in dataset (excluding CN) =',unique_r.shape[0])\n",
    "unique_g = pd.Series(load_org['R_Group'].unique()).dropna()\n",
    "print('number of regional groups in dataset (excluding CN) =',unique_g.shape[0])\n",
    "\n",
    "\n",
    "\n",
    "\n",
    "#for testing only, otherwise comment out the lines below\n",
    "#NOTE: use FRCC for one region, ERC for two regions\n",
    "#load_org = load_org[load_org['R_Group']==\"FRCC\"]\n",
    "#print('number of rows in dataset for testing =',load_org.shape[0])\n"
   ]
  },
  {
   "cell_type": "code",
   "execution_count": 39,
   "metadata": {},
   "outputs": [
    {
     "name": "stdout",
     "output_type": "stream",
     "text": [
      "          Region R_Group R_Subgroup  Season  Month  Day  Hour  Hour_Counter  \\\n",
      "551878  WEC_SDGE     WEC       SDGE  winter     12  365    23          8759   \n",
      "551879  WEC_SDGE     WEC       SDGE  winter     12  365    24          8760   \n",
      "\n",
      "        Load  \n",
      "551878  2362  \n",
      "551879  2206  \n",
      "number of rows in dataset = 551880\n"
     ]
    }
   ],
   "source": [
    "#Organize temporal data\n",
    "\n",
    "#rename hour titles to just the value ('Hour 1' --> 1)\n",
    "load_org.columns = load_org.columns.str.replace('Hour ', '')\n",
    "#print(load_org.head(2))\n",
    "\n",
    "#melt function converts values in wide format to long format\n",
    "load_dur = pd.melt(load_org,id_vars=['R_Group','R_Subgroup','Region','Month','Day'],var_name='Hour',value_name='Load')\n",
    "\n",
    "#print(load_dur.dtypes)\n",
    "\n",
    "#days are counted 1 to 365, not 1 to 31\n",
    "unique_d = pd.Series(load_dur['Day'].unique()).dropna()\n",
    "#print(unique_d.tail(2))\n",
    "\n",
    "#turn hour values to numeric \n",
    "load_dur['Hour'] = pd.to_numeric(load_dur['Hour'],errors='coerce')\n",
    "unique_h = pd.Series(load_dur['Hour'].unique()).dropna()\n",
    "#print(unique_h.tail(2))\n",
    "\n",
    "#add an hour counter\n",
    "load_dur['Hour_Counter'] = (load_dur['Hour']) + (load_dur['Day'] - 1) * 24\n",
    "load_dur = load_dur.sort_values(by=['Region','Hour_Counter'])\n",
    "unique_hc = pd.Series(load_dur['Hour_Counter'].unique()).dropna()\n",
    "#print(unique_hc.tail(2))\n",
    "\n",
    "#turn load values to numeric \n",
    "load_dur['Load'] = pd.to_numeric(load_dur['Load'].str.replace(\",\",\"\"),errors='coerce')\n",
    "#print(load_dur.head(2))\n",
    "\n",
    "#print(load_dur.dtypes)\n",
    "\n",
    "season_month = pd.read_csv('inputs/season_months.csv')\n",
    "load_dur = pd.merge(load_dur,season_month, on='Month', how='left')\n",
    "\n",
    "#organized long format data to new csv file\n",
    "load_dur = load_dur[['Region','R_Group','R_Subgroup','Season','Month','Day','Hour','Hour_Counter','Load']]\n",
    "load_dur.to_csv('../outputs/load_long_format.csv')\n",
    "print(load_dur.tail(2))\n",
    "print('number of rows in dataset =',load_dur.shape[0])"
   ]
  },
  {
   "cell_type": "markdown",
   "metadata": {},
   "source": [
    "# Case: Normal IPM Approach (72 Representative Hours)\n",
    "### Details: Split into 3 seasons, then 6 load groups, then 4 times of day\n",
    "#### Methodology: Use counters to keep track of season split, then use groupby function to find load averages"
   ]
  },
  {
   "cell_type": "code",
   "execution_count": 40,
   "metadata": {
    "scrolled": false
   },
   "outputs": [
    {
     "name": "stdout",
     "output_type": "stream",
     "text": [
      "\n",
      "     Region R_Group R_Subgroup  Season  Month  Day  Hour  Hour_Counter   Load  \\\n",
      "0  ERC_REST     ERC       REST  winter      1    1     1             1  34807   \n",
      "1  ERC_REST     ERC       REST  winter      1    1     2             2  34551   \n",
      "\n",
      "     TOD  \n",
      "0  night  \n",
      "1  night  \n"
     ]
    }
   ],
   "source": [
    "#Assign the time of day (TOD) categories to hours\n",
    "\n",
    "#Read in the time of day categories\n",
    "tod = pd.read_csv('inputs/time_of_day.csv')\n",
    "#print(tod)\n",
    "\n",
    "#merge the time of data categories to the dataframe\n",
    "load_dur_2 = pd.merge(load_dur,tod,on='Hour',how='left')\n",
    "print()\n",
    "print(load_dur_2.head(2))\n"
   ]
  },
  {
   "cell_type": "code",
   "execution_count": 41,
   "metadata": {},
   "outputs": [],
   "source": [
    "#Assign the Group categories to season/hours\n",
    "\n",
    "#Create a list of season to the 8760 hours\n",
    "seasons = load_dur_2[load_dur_2['Region']==load_dur_2['Region'].iloc[0]]\n",
    "seasons = seasons[['Season','Hour_Counter']]\n",
    "#print(seasons.head())\n",
    "#print(seasons.shape)\n",
    "\n",
    "#get the number of hours in each season\n",
    "season_count = seasons.groupby('Season',as_index=False).count().rename(columns={'Hour_Counter':'Season_Tot'})\n",
    "season_count = season_count.sort_values('Season')\n",
    "#print(season_count)\n",
    "#print()\n",
    "\n",
    "#read in the group shares data\n",
    "group = pd.read_csv('inputs/group_shares.csv')\n",
    "\n",
    "#combined the group shares data with the season/hours data\n",
    "#NOTE: if there are ever more than three seasons, this code should be updated\n",
    "group[season_count.iloc[0,0]] = group['Share']*season_count.iloc[0,1]\n",
    "group[season_count.iloc[1,0]] = group['Share']*season_count.iloc[1,1]\n",
    "group[season_count.iloc[2,0]] = group['Share']*season_count.iloc[2,1]\n",
    "group_sea = pd.melt(group,id_vars=['Group','Share'],var_name='Seasons',value_name='Season_Ct')\n",
    "group_sea['Season_Counter'] = group_sea['Season_Ct'].cumsum()\n",
    "group_sea['Season_Counter'] = round(group_sea['Season_Counter'])\n",
    "#print(group.dtypes)\n",
    "#print(group)\n",
    "#print(group_sea)\n",
    "#print()\n",
    "\n",
    "#Create a dataframe with 8760 numbers\n",
    "unique_hc = pd.Series(load_dur['Hour_Counter'].unique()).dropna()\n",
    "unique_hc = pd.DataFrame(unique_hc,columns=['Season_Counter'])\n",
    "unique_hc['Season_Counter'] = unique_hc['Season_Counter']*1.0\n",
    "season_8760 = pd.merge_asof(unique_hc, group_sea, on='Season_Counter', direction='forward')\n",
    "#print(unique_hc.tail())\n",
    "#print(season_8760.tail(3))\n",
    "#print(season_8760.shape)\n",
    "#print()\n"
   ]
  },
  {
   "cell_type": "code",
   "execution_count": 52,
   "metadata": {
    "scrolled": true
   },
   "outputs": [
    {
     "name": "stdout",
     "output_type": "stream",
     "text": [
      "     Region R_Group R_Subgroup    Season  Month  Day  Hour  Hour_Counter  \\\n",
      "0  ERC_REST     ERC       REST  shoulder     10  278    15          6663   \n",
      "1  ERC_REST     ERC       REST  shoulder     10  278    14          6662   \n",
      "\n",
      "    Load      TOD  Season_Counter  Group  \n",
      "0  57777  middday               1      1  \n",
      "1  57380  middday               2      1  \n",
      "\n",
      "          Region R_Group R_Subgroup  Season  Month  Day  Hour  Hour_Counter  \\\n",
      "551878  WEC_SDGE     WEC       SDGE  winter      2   38     3           891   \n",
      "551879  WEC_SDGE     WEC       SDGE  winter      1   17     3           387   \n",
      "\n",
      "        Load    TOD  Season_Counter  Group  \n",
      "551878  1703  night            8759      6  \n",
      "551879  1697  night            8760      6  \n",
      "\n",
      "number of rows in dataset = 551880\n"
     ]
    }
   ],
   "source": [
    "#Assign the load group categories to each of the 8760 hours\n",
    "\n",
    "#Create the seasonal counter in the load dataset to merge with\n",
    "load_dur_2 = load_dur_2.sort_values(['Region','Season','Load'], ascending=[True, True, False])\n",
    "load_dur_2 = load_dur_2.reset_index(drop=True)\n",
    "load_dur_2['Season_Counter'] = ( ( load_dur_2.index + 8760 ) % 8760 ) + 1\n",
    "load_dur_2['Season_Counter'] = load_dur_2['Season_Counter'].astype(int)\n",
    "#print(load_dur_2.head(2))\n",
    "#print(load_dur_2.dtypes)\n",
    "\n",
    "#Merge seasonal group data to the full dataframe\n",
    "load_dur_3 = pd.merge(load_dur_2,season_8760,on='Season_Counter',how='left')\n",
    "load_dur_3 = load_dur_3.drop(columns=['Share','Seasons','Season_Ct'])\n",
    "load_dur_3.to_csv('../outputs/load_duration_8760_NORM.csv')\n",
    "print(load_dur_3.head(2))\n",
    "print()\n",
    "print(load_dur_3.tail(2))\n",
    "print()\n",
    "print('number of rows in dataset =',load_dur_3.shape[0])\n"
   ]
  },
  {
   "cell_type": "code",
   "execution_count": 54,
   "metadata": {},
   "outputs": [
    {
     "name": "stdout",
     "output_type": "stream",
     "text": [
      "     Region    Season  Group      TOD  Hour_Tot  Load_Tot      Load_Avg\n",
      "0  ERC_REST  shoulder      1  evening         2    107834  53917.000000\n",
      "1  ERC_REST  shoulder      1  middday        27   1482630  54912.222222\n",
      "2  ERC_REST  shoulder      2  evening        34   1693417  49806.382353\n",
      "number of rows in dataset = 4169\n",
      "\n",
      "        Region R_Group R_Subgroup    Season  Month  Day  Hour  Hour_Counter  \\\n",
      "2927  ERC_REST     ERC       REST  shoulder      3   86     3          2043   \n",
      "2926  ERC_REST     ERC       REST  shoulder      4   94     2          2234   \n",
      "2925  ERC_REST     ERC       REST  shoulder      3   72     3          1707   \n",
      "\n",
      "       Load    TOD  Season_Counter  Group  Hour_Tot  Load_Tot      Load_Avg  \n",
      "2927  26989  night            2928      6       661  19467771  29451.998487  \n",
      "2926  27006  night            2927      6       661  19467771  29451.998487  \n",
      "2925  27025  night            2926      6       661  19467771  29451.998487  \n",
      "number of rows in dataset = 551880\n"
     ]
    }
   ],
   "source": [
    "load_dur_3 = load_dur_3.sort_values(['Region','Season','Group','TOD'])\n",
    "\n",
    "aggregations = {'Load':['count',sum,'mean']}\n",
    "norm = load_dur_3.groupby(['Region','Season','Group','TOD'],as_index=False).agg(aggregations)\n",
    "norm.columns = norm.columns.droplevel(0)\n",
    "norm.columns = ['Region','Season','Group','TOD','Hour_Tot','Load_Tot','Load_Avg']\n",
    "print(norm.head(3))\n",
    "print('number of rows in dataset =',norm.shape[0])\n",
    "norm.to_csv('../outputs/load_segments_NORM.csv')\n",
    "print()\n",
    "\n",
    "load_dur_4 = pd.merge(load_dur_3,norm,on=['Region','Season','Group','TOD'],how='left')\n",
    "load_dur_4 = load_dur_4.sort_values(['Region','Load'])\n",
    "print(load_dur_4.head(3))\n",
    "print('number of rows in dataset =',load_dur_4.shape[0])\n",
    "load_dur_4.to_csv('../outputs/load_8760_NORM.csv')\n"
   ]
  },
  {
   "cell_type": "code",
   "execution_count": 44,
   "metadata": {},
   "outputs": [
    {
     "data": {
      "image/png": "[encoded data removed]",
      "text/plain": [
       "<Figure size 432x288 with 1 Axes>"
      ]
     },
     "metadata": {
      "needs_background": "light"
     },
     "output_type": "display_data"
    }
   ],
   "source": [
    "%matplotlib inline\n",
    "import matplotlib.pyplot as plt\n",
    "\n",
    "load_dur_4 = load_dur_4.sort_values(by=['Region','Season_Counter'])\n",
    "plt.plot(load_dur_4['Load'].values)\n",
    "plt.title('IPM modeled load')\n",
    "plt.xlabel('Hours')\n",
    "plt.ylabel('Load')\n",
    "\n",
    "load_dur_4 = load_dur_4.sort_values(by=['Region','Season','Load_Avg'],ascending=[True, True, False])\n",
    "plt.plot(load_dur_4['Load_Avg'].values)\n",
    "plt.title('Load comparison')\n",
    "plt.xlabel('hours')\n",
    "plt.ylabel('load')\n",
    "\n",
    "plt.show()"
   ]
  },
  {
   "cell_type": "code",
   "execution_count": 45,
   "metadata": {},
   "outputs": [
    {
     "data": {
      "image/png": "[encoded data removed]",
      "text/plain": [
       "<Figure size 432x288 with 1 Axes>"
      ]
     },
     "metadata": {
      "needs_background": "light"
     },
     "output_type": "display_data"
    }
   ],
   "source": [
    "fig, axis = plt.subplots()\n",
    "\n",
    "axis.yaxis.grid(True)\n",
    "axis.set_title('Load comparison')\n",
    "axis.set_xlabel('modeled load')\n",
    "axis.set_ylabel('actual load')\n",
    "\n",
    "X = load_dur_4['Load_Avg']/1000\n",
    "Y = load_dur_4['Load']/1000\n",
    "\n",
    "axis.scatter(X, Y)\n",
    "plt.show()"
   ]
  },
  {
   "cell_type": "markdown",
   "metadata": {},
   "source": [
    "# Case: Grouping Time of Day before Load Group\n",
    "### Details: Regions will be split first by season, then time of day, then load group\n",
    "#### Methodology: Use same methods & code as norm case, but switch order of groupby for group and time of day"
   ]
  },
  {
   "cell_type": "code",
   "execution_count": 46,
   "metadata": {},
   "outputs": [
    {
     "name": "stdout",
     "output_type": "stream",
     "text": [
      "\n",
      "     Region R_Group R_Subgroup  Season  Month  Day  Hour  Hour_Counter   Load  \\\n",
      "0  ERC_REST     ERC       REST  winter      1    1     1             1  34807   \n",
      "1  ERC_REST     ERC       REST  winter      1    1     2             2  34551   \n",
      "\n",
      "     TOD  \n",
      "0  night  \n",
      "1  night  \n"
     ]
    }
   ],
   "source": [
    "#Assign the time of day (TOD) categories to hours\n",
    "\n",
    "#Read in the time of day categories\n",
    "tod = pd.read_csv('inputs/time_of_day.csv')\n",
    "#print(tod)\n",
    "\n",
    "#merge the time of data categories to the dataframe\n",
    "tod_load = pd.merge(load_dur,tod,on='Hour',how='left')\n",
    "print()\n",
    "print(tod_load.head(2))\n"
   ]
  },
  {
   "cell_type": "code",
   "execution_count": 47,
   "metadata": {},
   "outputs": [],
   "source": [
    "#Assign the Group categories to season/hours\n",
    "\n",
    "#Create a list of season to the 8760 hours\n",
    "seasons2 = tod_load[tod_load['Region']==tod_load['Region'].iloc[0]]\n",
    "seasons2 = seasons2[['Season','Hour_Counter']]\n",
    "#print(seasons2.head())\n",
    "#print(seasons2.shape)\n",
    "\n",
    "#get the number of hours in each season\n",
    "season2_count = seasons2.groupby('Season',as_index=False).count().rename(columns={'Hour_Counter':'Season_Tot'})\n",
    "season2_count = season2_count.sort_values('Season')\n",
    "#print(season2_count)\n",
    "#print()\n",
    "\n",
    "#read in the group shares data\n",
    "group3 = pd.read_csv('inputs/group_shares.csv')\n",
    "\n",
    "#combined the group shares data with the season/hours data\n",
    "#NOTE: if there are ever more than three seasons, this code should be updated\n",
    "group3[season2_count.iloc[0,0]] = group3['Share']*season2_count.iloc[0,1]\n",
    "group3[season2_count.iloc[1,0]] = group3['Share']*season2_count.iloc[1,1]\n",
    "group3[season2_count.iloc[2,0]] = group3['Share']*season2_count.iloc[2,1]\n",
    "group2_sea = pd.melt(group3,id_vars=['Group','Share'],var_name='Seasons',value_name='Season_Ct')\n",
    "group2_sea['Season_Counter'] = group2_sea['Season_Ct'].cumsum()\n",
    "group2_sea['Season_Counter'] = round(group2_sea['Season_Counter'])\n",
    "#print(group.dtypes)\n",
    "#print(group)\n",
    "#print(group_sea)\n",
    "#print()\n",
    "\n",
    "#Create a dataframe with 8760 numbers\n",
    "unique_hc2 = pd.Series(load_dur['Hour_Counter'].unique()).dropna()\n",
    "unique_hc2 = pd.DataFrame(unique_hc2,columns=['Season_Counter'])\n",
    "unique_hc2['Season_Counter'] = unique_hc2['Season_Counter']*1.0\n",
    "season2_8760 = pd.merge_asof(unique_hc2, group2_sea, on='Season_Counter', direction='forward')\n",
    "#print(unique_hc.tail())\n",
    "#print(season_8760.tail(3))\n",
    "#print(season_8760.shape)\n",
    "#print()"
   ]
  },
  {
   "cell_type": "code",
   "execution_count": 55,
   "metadata": {},
   "outputs": [
    {
     "name": "stdout",
     "output_type": "stream",
     "text": [
      "     Region R_Group R_Subgroup    Season  Month  Day  Hour  Hour_Counter  \\\n",
      "0  ERC_REST     ERC       REST  shoulder     10  278    15          6663   \n",
      "1  ERC_REST     ERC       REST  shoulder     10  278    14          6662   \n",
      "\n",
      "    Load      TOD  Season_Counter  Group  \n",
      "0  57777  middday               1      1  \n",
      "1  57380  middday               2      1  \n",
      "\n",
      "          Region R_Group R_Subgroup  Season  Month  Day  Hour  Hour_Counter  \\\n",
      "551878  WEC_SDGE     WEC       SDGE  winter      2   38     3           891   \n",
      "551879  WEC_SDGE     WEC       SDGE  winter      1   17     3           387   \n",
      "\n",
      "        Load    TOD  Season_Counter  Group  \n",
      "551878  1703  night            8759      6  \n",
      "551879  1697  night            8760      6  \n",
      "\n",
      "number of rows in dataset = 551880\n"
     ]
    }
   ],
   "source": [
    "#Assign the load group categories to each of the 8760 hours\n",
    "\n",
    "#Create the seasonal counter in the load dataset to merge with\n",
    "tod_load = tod_load.sort_values(['Region','Season','Load'], ascending=[True, True, False])\n",
    "tod_load = tod_load.reset_index(drop=True)\n",
    "tod_load['Season_Counter'] = ( ( tod_load.index + 8760 ) % 8760 ) + 1\n",
    "tod_load['Season_Counter'] = tod_load['Season_Counter'].astype(int)\n",
    "#print(tod_load.head(2))\n",
    "#print(tod_load.dtypes)\n",
    "\n",
    "#Merge seasonal group data to the full dataframe\n",
    "tod_load_2 = pd.merge(tod_load,season2_8760,on='Season_Counter',how='left')\n",
    "tod_load_2 = tod_load_2.drop(columns=['Share','Seasons','Season_Ct'])\n",
    "tod_load_2.to_csv('../outputs/load_duration_8760_timeofday.csv')\n",
    "print(tod_load_2.head(2))\n",
    "print()\n",
    "print(tod_load_2.tail(2))\n",
    "print()\n",
    "print('number of rows in dataset =',tod_load_2.shape[0])\n"
   ]
  },
  {
   "cell_type": "code",
   "execution_count": 57,
   "metadata": {},
   "outputs": [
    {
     "name": "stdout",
     "output_type": "stream",
     "text": [
      "     Region    Season      TOD  Group  Hour_Tot  Load_Tot      Load_Avg\n",
      "0  ERC_REST  shoulder  evening      1         2    107834  53917.000000\n",
      "1  ERC_REST  shoulder  evening      2        34   1693417  49806.382353\n",
      "2  ERC_REST  shoulder  evening      3        76   3345487  44019.565789\n",
      "number of rows in dataset = 4169\n",
      "\n",
      "        Region R_Group R_Subgroup    Season  Month  Day  Hour  Hour_Counter  \\\n",
      "2927  ERC_REST     ERC       REST  shoulder      3   86     3          2043   \n",
      "2926  ERC_REST     ERC       REST  shoulder      4   94     2          2234   \n",
      "2925  ERC_REST     ERC       REST  shoulder      3   72     3          1707   \n",
      "\n",
      "       Load    TOD  Season_Counter  Group  Hour_Tot  Load_Tot      Load_Avg  \n",
      "2927  26989  night            2928      6       661  19467771  29451.998487  \n",
      "2926  27006  night            2927      6       661  19467771  29451.998487  \n",
      "2925  27025  night            2926      6       661  19467771  29451.998487  \n",
      "number of rows in dataset = 551880\n"
     ]
    }
   ],
   "source": [
    "tod_load_2 = tod_load_2.sort_values(['Region','Season','TOD','Group'])\n",
    "\n",
    "aggregations = {'Load':['count',sum,'mean']}\n",
    "case2 = tod_load_2.groupby(['Region','Season','TOD','Group'],as_index=False).agg(aggregations)\n",
    "case2.columns = case2.columns.droplevel(0)\n",
    "case2.columns = ['Region','Season','TOD','Group','Hour_Tot','Load_Tot','Load_Avg']\n",
    "print(case2.head(3))\n",
    "print('number of rows in dataset =',case2.shape[0])\n",
    "case2.to_csv('../outputs/load_segments_timeofday.csv')\n",
    "print()\n",
    "\n",
    "tod_load_3 = pd.merge(tod_load_2,case2,on=['Region','Season','TOD','Group'],how='left')\n",
    "tod_load_3 = tod_load_3.sort_values(['Region','Load'])\n",
    "print(tod_load_3.head(3))\n",
    "print('number of rows in dataset =',tod_load_3.shape[0])\n",
    "tod_load_3.to_csv('../outputs/load_8760_timeofday.csv')\n"
   ]
  },
  {
   "cell_type": "markdown",
   "metadata": {},
   "source": [
    "### Plot of a single region"
   ]
  },
  {
   "cell_type": "code",
   "execution_count": 50,
   "metadata": {},
   "outputs": [
    {
     "data": {
      "image/png": "[encoded data removed]",
      "text/plain": [
       "<Figure size 432x288 with 1 Axes>"
      ]
     },
     "metadata": {
      "needs_background": "light"
     },
     "output_type": "display_data"
    }
   ],
   "source": [
    "#plot when testing a single region \n",
    "%matplotlib inline\n",
    "import matplotlib.pyplot as plt\n",
    "\n",
    "tod_load_3 = tod_load_3.sort_values(by=['Region','Season_Counter'])\n",
    "plt.plot(tod_load_3['Load'].values)\n",
    "plt.title('IPM modeled load')\n",
    "plt.xlabel('Hours')\n",
    "plt.ylabel('Load')\n",
    "\n",
    "tod_load_3 = tod_load_3.sort_values(by=['Region','Season','Load_Avg'],ascending=[True, True, False])\n",
    "plt.plot(tod_load_3['Load_Avg'].values)\n",
    "plt.title('Load comparison')\n",
    "plt.xlabel('hours')\n",
    "plt.ylabel('load')\n",
    "\n",
    "plt.show()"
   ]
  },
  {
   "cell_type": "code",
   "execution_count": null,
   "metadata": {},
   "outputs": [],
   "source": []
  }
 ],
 "metadata": {
  "kernelspec": {
   "display_name": "Python 3",
   "language": "python",
   "name": "python3"
  },
  "language_info": {
   "codemirror_mode": {
    "name": "ipython",
    "version": 3
   },
   "file_extension": ".py",
   "mimetype": "text/x-python",
   "name": "python",
   "nbconvert_exporter": "python",
   "pygments_lexer": "ipython3",
   "version": "3.7.3"
  }
 },
 "nbformat": 4,
 "nbformat_minor": 4
}
